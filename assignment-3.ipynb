{
  "cells": [
    {
      "cell_type": "markdown",
      "metadata": {
        "id": "view-in-github",
        "colab_type": "text"
      },
      "source": [
        "<a href=\"https://colab.research.google.com/github/spetznick/applied-gpu-programming/blob/colab-s/assignment-3.ipynb\" target=\"_parent\"><img src=\"https://colab.research.google.com/assets/colab-badge.svg\" alt=\"Open In Colab\"/></a>"
      ]
    },
    {
      "cell_type": "markdown",
      "metadata": {
        "id": "q0-ZomlNSrF5"
      },
      "source": [
        "### Assignment 3 Exercise 2\n",
        "\n"
      ]
    },
    {
      "cell_type": "code",
      "source": [
        "from google.colab import drive\n",
        "drive.mount('/content/drive')"
      ],
      "metadata": {
        "colab": {
          "base_uri": "https://localhost:8080/"
        },
        "id": "5zkPEq5ZXMMz",
        "outputId": "bc5e2971-b467-4cbe-fc54-02d4ddf92674"
      },
      "execution_count": 1,
      "outputs": [
        {
          "output_type": "stream",
          "name": "stdout",
          "text": [
            "Mounted at /content/drive\n"
          ]
        }
      ]
    },
    {
      "cell_type": "code",
      "source": [
        "import os\n",
        "os.chdir(\"/content/drive/My Drive/DD2360/DD2360-PIC\")"
      ],
      "metadata": {
        "id": "Gl_sYLRoXYm-"
      },
      "execution_count": 2,
      "outputs": []
    },
    {
      "cell_type": "code",
      "execution_count": 3,
      "metadata": {
        "colab": {
          "base_uri": "https://localhost:8080/"
        },
        "id": "yJlrROAn5Rqj",
        "outputId": "9d04d534-0da4-4881-dee3-da169034844c"
      },
      "outputs": [
        {
          "output_type": "stream",
          "name": "stdout",
          "text": [
            "nvcc: NVIDIA (R) Cuda compiler driver\n",
            "Copyright (c) 2005-2023 NVIDIA Corporation\n",
            "Built on Tue_Aug_15_22:02:13_PDT_2023\n",
            "Cuda compilation tools, release 12.2, V12.2.140\n",
            "Build cuda_12.2.r12.2/compiler.33191640_0\n",
            "Fri Dec 13 15:52:24 2024       \n",
            "+---------------------------------------------------------------------------------------+\n",
            "| NVIDIA-SMI 535.104.05             Driver Version: 535.104.05   CUDA Version: 12.2     |\n",
            "|-----------------------------------------+----------------------+----------------------+\n",
            "| GPU  Name                 Persistence-M | Bus-Id        Disp.A | Volatile Uncorr. ECC |\n",
            "| Fan  Temp   Perf          Pwr:Usage/Cap |         Memory-Usage | GPU-Util  Compute M. |\n",
            "|                                         |                      |               MIG M. |\n",
            "|=========================================+======================+======================|\n",
            "|   0  Tesla T4                       Off | 00000000:00:04.0 Off |                    0 |\n",
            "| N/A   50C    P8               9W /  70W |      0MiB / 15360MiB |      0%      Default |\n",
            "|                                         |                      |                  N/A |\n",
            "+-----------------------------------------+----------------------+----------------------+\n",
            "                                                                                         \n",
            "+---------------------------------------------------------------------------------------+\n",
            "| Processes:                                                                            |\n",
            "|  GPU   GI   CI        PID   Type   Process name                            GPU Memory |\n",
            "|        ID   ID                                                             Usage      |\n",
            "|=======================================================================================|\n",
            "|  No running processes found                                                           |\n",
            "+---------------------------------------------------------------------------------------+\n"
          ]
        }
      ],
      "source": [
        "!nvcc --version\n",
        "!nvidia-smi"
      ]
    },
    {
      "cell_type": "markdown",
      "metadata": {
        "id": "TqdaBa9wIICn"
      },
      "source": [
        "## We compile the saved cuda code using nvcc compiler"
      ]
    },
    {
      "cell_type": "code",
      "execution_count": 18,
      "metadata": {
        "colab": {
          "base_uri": "https://localhost:8080/"
        },
        "id": "TvYps9NQ40NC",
        "outputId": "baae66a7-2c59-4e46-e72b-2aadb681f7cf"
      },
      "outputs": [
        {
          "output_type": "stream",
          "name": "stdout",
          "text": [
            "/content/drive/MyDrive/DD2360/DD2360-PIC\n",
            "rm -rf  src/ConfigFile.o src/EMfield.o src/EMfield_aux.o src/Particles_aux.o src/Timing.o src/RW_IO.o src/TransArraySpace3D.o src/InterpDensNet.o src/Grid.o src/InterpDensSpecies.o src/BC.o src/Basic.o src/sputniPIC.o src/Particles.o\n",
            "rm -rf sputniPIC.out\n",
            "[ -d src ] || mkdir src\n",
            "nvcc -std=c++11 -I./include -O3 -g -Xcompiler -Wall src/ConfigFile.cpp -c -o src/ConfigFile.o\n",
            "[ -d src ] || mkdir src\n",
            "nvcc -std=c++11 -I./include -O3 -g -Xcompiler -Wall src/EMfield.cpp -c -o src/EMfield.o\n",
            "[ -d src ] || mkdir src\n",
            "nvcc -std=c++11 -I./include -O3 -g -Xcompiler -Wall src/EMfield_aux.cpp -c -o src/EMfield_aux.o\n",
            "[ -d src ] || mkdir src\n",
            "nvcc -std=c++11 -I./include -O3 -g -Xcompiler -Wall src/Particles_aux.cpp -c -o src/Particles_aux.o\n",
            "\u001b[01m\u001b[Ksrc/Particles_aux.cpp:\u001b[m\u001b[K In function ‘\u001b[01m\u001b[Kvoid particle_aux_allocate(particles*, particles_aux*, int)\u001b[m\u001b[K’:\n",
            "\u001b[01m\u001b[Ksrc/Particles_aux.cpp:14:10:\u001b[m\u001b[K \u001b[01;35m\u001b[Kwarning: \u001b[m\u001b[Kunused variable ‘\u001b[01m\u001b[Knpmax\u001b[m\u001b[K’ [\u001b[01;35m\u001b[K\u001b]8;;https://gcc.gnu.org/onlinedocs/gcc/Warning-Options.html#index-Wunused-variable\u0007-Wunused-variable\u001b]8;;\u0007\u001b[m\u001b[K]\n",
            "   14 |     long \u001b[01;35m\u001b[Knpmax\u001b[m\u001b[K = part->npmax;\n",
            "      |          \u001b[01;35m\u001b[K^~~~~\u001b[m\u001b[K\n",
            "[ -d src ] || mkdir src\n",
            "nvcc -std=c++11 -I./include -O3 -g -Xcompiler -Wall src/Timing.cpp -c -o src/Timing.o\n",
            "[ -d src ] || mkdir src\n",
            "nvcc -std=c++11 -I./include -O3 -g -Xcompiler -Wall src/RW_IO.cpp -c -o src/RW_IO.o\n",
            "[ -d src ] || mkdir src\n",
            "nvcc -std=c++11 -I./include -O3 -g -Xcompiler -Wall src/TransArraySpace3D.cpp -c -o src/TransArraySpace3D.o\n",
            "[ -d src ] || mkdir src\n",
            "nvcc -std=c++11 -I./include -O3 -g -Xcompiler -Wall src/InterpDensNet.cpp -c -o src/InterpDensNet.o\n",
            "[ -d src ] || mkdir src\n",
            "nvcc -std=c++11 -I./include -O3 -g -Xcompiler -Wall src/Grid.cpp -c -o src/Grid.o\n",
            "[ -d src ] || mkdir src\n",
            "nvcc -std=c++11 -I./include -O3 -g -Xcompiler -Wall src/InterpDensSpecies.cpp -c -o src/InterpDensSpecies.o\n",
            "[ -d src ] || mkdir src\n",
            "nvcc -std=c++11 -I./include -O3 -g -Xcompiler -Wall src/BC.cpp -c -o src/BC.o\n",
            "[ -d src ] || mkdir src\n",
            "nvcc -std=c++11 -I./include -O3 -g -Xcompiler -Wall src/Basic.cpp -c -o src/Basic.o\n",
            "[ -d src ] || mkdir src\n",
            "nvcc -std=c++11 -I./include -O3 -g -Xcompiler -Wall src/sputniPIC.cpp -c -o src/sputniPIC.o\n",
            "In file included from \u001b[01m\u001b[Ksrc/sputniPIC.cpp:26\u001b[m\u001b[K:\n",
            "\u001b[01m\u001b[K./include/IC.h:\u001b[m\u001b[K In function ‘\u001b[01m\u001b[Kvoid initGEM(parameters*, grid*, EMfield*, EMfield_aux*, particles*, interpDensSpecies*)\u001b[m\u001b[K’:\n",
            "\u001b[01m\u001b[K./include/IC.h:82:25:\u001b[m\u001b[K \u001b[01;35m\u001b[Kwarning: \u001b[m\u001b[Kunused variable ‘\u001b[01m\u001b[Ksign\u001b[m\u001b[K’ [\u001b[01;35m\u001b[K\u001b]8;;https://gcc.gnu.org/onlinedocs/gcc/Warning-Options.html#index-Wunused-variable\u0007-Wunused-variable\u001b]8;;\u0007\u001b[m\u001b[K]\n",
            "   82 |     double prob, theta, \u001b[01;35m\u001b[Ksign\u001b[m\u001b[K;\n",
            "      |                         \u001b[01;35m\u001b[K^~~~\u001b[m\u001b[K\n",
            "nvcc -I./include -arch=sm_50 -std=c++11 -O3 -g -Xcompiler -Wall --compiler-bindir=g++ src/Particles.cu -c -o src/Particles.o\n",
            "\u001b[01m\u001b[Ksrc/Particles.cu:\u001b[m\u001b[K In function ‘\u001b[01m\u001b[Kint mover_PC(particles*, EMfield*, grid*, parameters*)\u001b[m\u001b[K’:\n",
            "\u001b[01m\u001b[Ksrc/Particles.cu:368:38:\u001b[m\u001b[K \u001b[01;35m\u001b[Kwarning: \u001b[m\u001b[K‘\u001b[01m\u001b[Kwptilde\u001b[m\u001b[K’ may be used uninitialized in this function [\u001b[01;35m\u001b[K\u001b]8;;https://gcc.gnu.org/onlinedocs/gcc/Warning-Options.html#index-Wmaybe-uninitialized\u0007-Wmaybe-uninitialized\u001b]8;;\u0007\u001b[m\u001b[K]\n",
            "  368 |             part->z[i] = zpt\u001b[01;35m\u001b[Kilde + wptilde * dt_sub_cy\u001b[m\u001b[Kcling;\n",
            "      |                             \u001b[01;35m\u001b[K~~~~~~~~~^~~~~~~~~~~~~~~~~\u001b[m\u001b[K\n",
            "\u001b[01m\u001b[Ksrc/Particles.cu:364:28:\u001b[m\u001b[K \u001b[01;35m\u001b[Kwarning: \u001b[m\u001b[K‘\u001b[01m\u001b[Kvptilde\u001b[m\u001b[K’ may be used uninitialized in this function [\u001b[01;35m\u001b[K\u001b]8;;https://gcc.gnu.org/onlinedocs/gcc/Warning-Options.html#index-Wmaybe-uninitialized\u0007-Wmaybe-uninitialized\u001b]8;;\u0007\u001b[m\u001b[K]\n",
            "  364 |             part->v[i] = 2.\u001b[01;35m\u001b[K0 * vpt\u001b[m\u001b[Kilde - part->v[i];\n",
            "      |                            \u001b[01;35m\u001b[K^~~~~~~\u001b[m\u001b[K\n",
            "\u001b[01m\u001b[Ksrc/Particles.cu:363:28:\u001b[m\u001b[K \u001b[01;35m\u001b[Kwarning: \u001b[m\u001b[K‘\u001b[01m\u001b[Kuptilde\u001b[m\u001b[K’ may be used uninitialized in this function [\u001b[01;35m\u001b[K\u001b]8;;https://gcc.gnu.org/onlinedocs/gcc/Warning-Options.html#index-Wmaybe-uninitialized\u0007-Wmaybe-uninitialized\u001b]8;;\u0007\u001b[m\u001b[K]\n",
            "  363 |             part->u[i] = 2.\u001b[01;35m\u001b[K0 * upt\u001b[m\u001b[Kilde - part->u[i];\n",
            "      |                            \u001b[01;35m\u001b[K^~~~~~~\u001b[m\u001b[K\n",
            "nvcc -I./include -arch=sm_50 -std=c++11 -O3 -g -Xcompiler -Wall --compiler-bindir=g++ src/ConfigFile.o src/EMfield.o src/EMfield_aux.o src/Particles_aux.o src/Timing.o src/RW_IO.o src/TransArraySpace3D.o src/InterpDensNet.o src/Grid.o src/InterpDensSpecies.o src/BC.o src/Basic.o src/sputniPIC.o src/Particles.o -o bin/sputniPIC.out\n"
          ]
        }
      ],
      "source": [
        "!pwd\n",
        "!make clean\n",
        "!make"
      ]
    },
    {
      "cell_type": "code",
      "source": [
        "!./bin/sputniPIC.out ./inputfiles/GEM_2D.inp"
      ],
      "metadata": {
        "colab": {
          "base_uri": "https://localhost:8080/"
        },
        "id": "0B10tpoqXvDm",
        "outputId": "83571c06-7ad1-48e8-f01f-d8d38fb1126a"
      },
      "execution_count": 19,
      "outputs": [
        {
          "output_type": "stream",
          "name": "stdout",
          "text": [
            "\n",
            "-------------------------\n",
            "sputniPIC Sim. Parameters\n",
            "-------------------------\n",
            "Number of species    = 4\n",
            "Number of particles of species 0 = 4096000\t (MAX = 4096000)  QOM = -64\n",
            "Number of particles of species 1 = 4096000\t (MAX = 4096000)  QOM = 1\n",
            "Number of particles of species 2 = 4096000\t (MAX = 4096000)  QOM = -64\n",
            "Number of particles of species 3 = 4096000\t (MAX = 4096000)  QOM = 1\n",
            "x-Length                 = 40\n",
            "y-Length                 = 20\n",
            "z-Length                 = 1\n",
            "Number of cells (x)      = 256\n",
            "Number of cells (y)      = 128\n",
            "Number of cells (z)      = 1\n",
            "Time step                = 0.25\n",
            "Number of cycles         = 10\n",
            "Results saved in: data\n",
            "*************************************************\n",
            "**  Initialize GEM Challenge with Pertubation  **\n",
            "*************************************************\n",
            "** B0x = 0.0195\n",
            "** B0y = 0\n",
            "** B0z = 0\n",
            "** Delta (current sheet thickness) = 0.5\n",
            "** rho species 0 = 1 CURRENT SHEET \n",
            "** rho species 1 = 1 CURRENT SHEET \n",
            "** rho species 2 = 0.02 BACKGROUND \n",
            "** rho species 3 = 0.02 BACKGROUND \n",
            "*************************************************\n",
            "\n",
            "***********************\n",
            "   cycle = 1\n",
            "***********************\n",
            "***  MOVER with SUBCYCLYING 1 - species 0 ***\n",
            "***  MOVER with SUBCYCLYING 1 - species 1 ***\n",
            "***  MOVER with SUBCYCLYING 1 - species 2 ***\n",
            "***  MOVER with SUBCYCLYING 1 - species 3 ***\n",
            "\n",
            "***********************\n",
            "   cycle = 2\n",
            "***********************\n",
            "***  MOVER with SUBCYCLYING 1 - species 0 ***\n",
            "***  MOVER with SUBCYCLYING 1 - species 1 ***\n",
            "***  MOVER with SUBCYCLYING 1 - species 2 ***\n",
            "***  MOVER with SUBCYCLYING 1 - species 3 ***\n",
            "\n",
            "***********************\n",
            "   cycle = 3\n",
            "***********************\n",
            "***  MOVER with SUBCYCLYING 1 - species 0 ***\n",
            "***  MOVER with SUBCYCLYING 1 - species 1 ***\n",
            "***  MOVER with SUBCYCLYING 1 - species 2 ***\n",
            "***  MOVER with SUBCYCLYING 1 - species 3 ***\n",
            "\n",
            "***********************\n",
            "   cycle = 4\n",
            "***********************\n",
            "***  MOVER with SUBCYCLYING 1 - species 0 ***\n",
            "***  MOVER with SUBCYCLYING 1 - species 1 ***\n",
            "***  MOVER with SUBCYCLYING 1 - species 2 ***\n",
            "***  MOVER with SUBCYCLYING 1 - species 3 ***\n",
            "\n",
            "***********************\n",
            "   cycle = 5\n",
            "***********************\n",
            "***  MOVER with SUBCYCLYING 1 - species 0 ***\n",
            "***  MOVER with SUBCYCLYING 1 - species 1 ***\n",
            "***  MOVER with SUBCYCLYING 1 - species 2 ***\n",
            "***  MOVER with SUBCYCLYING 1 - species 3 ***\n",
            "\n",
            "***********************\n",
            "   cycle = 6\n",
            "***********************\n",
            "***  MOVER with SUBCYCLYING 1 - species 0 ***\n",
            "***  MOVER with SUBCYCLYING 1 - species 1 ***\n",
            "***  MOVER with SUBCYCLYING 1 - species 2 ***\n",
            "***  MOVER with SUBCYCLYING 1 - species 3 ***\n",
            "\n",
            "***********************\n",
            "   cycle = 7\n",
            "***********************\n",
            "***  MOVER with SUBCYCLYING 1 - species 0 ***\n",
            "***  MOVER with SUBCYCLYING 1 - species 1 ***\n",
            "***  MOVER with SUBCYCLYING 1 - species 2 ***\n",
            "***  MOVER with SUBCYCLYING 1 - species 3 ***\n",
            "\n",
            "***********************\n",
            "   cycle = 8\n",
            "***********************\n",
            "***  MOVER with SUBCYCLYING 1 - species 0 ***\n",
            "***  MOVER with SUBCYCLYING 1 - species 1 ***\n",
            "***  MOVER with SUBCYCLYING 1 - species 2 ***\n",
            "***  MOVER with SUBCYCLYING 1 - species 3 ***\n",
            "\n",
            "***********************\n",
            "   cycle = 9\n",
            "***********************\n",
            "***  MOVER with SUBCYCLYING 1 - species 0 ***\n",
            "***  MOVER with SUBCYCLYING 1 - species 1 ***\n",
            "***  MOVER with SUBCYCLYING 1 - species 2 ***\n",
            "***  MOVER with SUBCYCLYING 1 - species 3 ***\n",
            "\n",
            "***********************\n",
            "   cycle = 10\n",
            "***********************\n",
            "***  MOVER with SUBCYCLYING 1 - species 0 ***\n",
            "***  MOVER with SUBCYCLYING 1 - species 1 ***\n",
            "***  MOVER with SUBCYCLYING 1 - species 2 ***\n",
            "***  MOVER with SUBCYCLYING 1 - species 3 ***\n",
            "Opening file: ./data/E_10.vtk\n",
            "Opening file: ./data/B_10.vtk\n",
            "Opening file: ./data/rhoe_10.vtk\n",
            "Opening file: ./data/rhoi_10.vtk\n",
            "Opening file: ./data/rho_net_10.vtk\n",
            "\n",
            "**************************************\n",
            "   Tot. Simulation Time (s) = 50.308\n",
            "   Mover Time / Cycle   (s) = 0.286918\n",
            "   Interp. Time / Cycle (s) = 4.37831\n",
            "**************************************\n"
          ]
        }
      ]
    },
    {
      "cell_type": "markdown",
      "source": [
        "CPU:\n",
        "- Tot. Simulation Time (s) = 79.0391\n",
        "- Mover Time / Cycle   (s) = 3.35283\n",
        "- Interp. Time / Cycle (s) = 4.25696\n",
        "\n",
        "GPU:\n",
        "- Tot. Simulation Time (s) = 50.2905\n",
        "- Mover Time / Cycle   (s) = 0.276141\n",
        "- Interp. Time / Cycle (s) = 4.39823"
      ],
      "metadata": {
        "id": "x4iIfN6Iw5hA"
      }
    },
    {
      "cell_type": "code",
      "source": [
        "import numpy as np\n",
        "import matplotlib.pyplot as plt\n",
        "\n",
        "def parse_vtk_file(filepath):\n",
        "    \"\"\"\n",
        "    Parses a VTK file with structured points and extracts the data values.\n",
        "\n",
        "    Args:\n",
        "        filepath (str): Path to the VTK file.\n",
        "\n",
        "    Returns:\n",
        "        np.ndarray: Extracted data values as a NumPy array.\n",
        "    \"\"\"\n",
        "    with open(filepath, 'r') as file:\n",
        "        lines = file.readlines()\n",
        "\n",
        "    # Find the start of the data\n",
        "    data_start_idx = None\n",
        "    for idx, line in enumerate(lines):\n",
        "        if line.strip() == \"LOOKUP_TABLE default\":\n",
        "            data_start_idx = idx + 1\n",
        "            break\n",
        "\n",
        "    if data_start_idx is None:\n",
        "        raise ValueError(\"Could not find the data section in the VTK file.\")\n",
        "\n",
        "    # Extract data values as floats\n",
        "    data_values = [float(value.strip()) for value in lines[data_start_idx:]]\n",
        "    return np.array(data_values)\n",
        "\n",
        "def plot_vtk_files(file1, file2):\n",
        "    \"\"\"\n",
        "    Plots the data from two VTK files on the same graph.\n",
        "\n",
        "    Args:\n",
        "        file1 (str): Path to the first VTK file.\n",
        "        file2 (str): Path to the second VTK file.\n",
        "    \"\"\"\n",
        "    # Parse the files\n",
        "    data1 = parse_vtk_file(file1)\n",
        "    data2 = parse_vtk_file(file2)\n",
        "\n",
        "    # Generate indices for x-axis\n",
        "    indices = np.arange(len(data1))\n",
        "\n",
        "    # Plot the data\n",
        "    plt.figure(figsize=(10, 6))\n",
        "    plt.plot(indices, data1, label=\"CPU\", color='blue')\n",
        "    plt.plot(indices, data2, label=\"GPU\", color='orange')\n",
        "    plt.xlabel(\"Index\")\n",
        "    plt.ylabel(r\"$\\rho$\")\n",
        "    plt.title(\"Comparison of VTK Data\")\n",
        "    plt.legend()\n",
        "    plt.grid()\n",
        "    plt.show()\n",
        "\n",
        "# Paths to the VTK files\n",
        "file1_path = \"./data/rho_net_10_cpu.vtk\"\n",
        "file2_path = \"./data/rho_net_10_gpu.vtk\"\n",
        "\n",
        "# Plot the data from both files\n",
        "plot_vtk_files(file1_path, file2_path)\n",
        "# Save figure as png\n",
        "plt.savefig(\"./data/results.png\")"
      ],
      "metadata": {
        "id": "hQqaesxn0mug",
        "outputId": "a7d5ed0a-1b93-4464-c36f-15f1959ffa5c",
        "colab": {
          "base_uri": "https://localhost:8080/",
          "height": 428
        }
      },
      "execution_count": 22,
      "outputs": [
        {
          "output_type": "display_data",
          "data": {
            "text/plain": [
              "<Figure size 1000x600 with 1 Axes>"
            ],
            "image/png": "[encoded data removed]"
          },
          "metadata": {}
        },
        {
          "output_type": "display_data",
          "data": {
            "text/plain": [
              "<Figure size 640x480 with 0 Axes>"
            ]
          },
          "metadata": {}
        }
      ]
    }
  ],
  "metadata": {
    "accelerator": "GPU",
    "colab": {
      "gpuType": "T4",
      "provenance": [],
      "include_colab_link": true
    },
    "kernelspec": {
      "display_name": "Python 3",
      "name": "python3"
    },
    "language_info": {
      "name": "python"
    }
  },
  "nbformat": 4,
  "nbformat_minor": 0
}