{
  "nbformat": 4,
  "nbformat_minor": 0,
  "metadata": {
    "colab": {
      "provenance": [],
      "gpuType": "T4",
      "include_colab_link": true
    },
    "kernelspec": {
      "name": "python3",
      "display_name": "Python 3"
    },
    "language_info": {
      "name": "python"
    },
    "accelerator": "GPU"
  },
  "cells": [
    {
      "cell_type": "markdown",
      "metadata": {
        "id": "view-in-github",
        "colab_type": "text"
      },
      "source": [
        "<a href=\"https://colab.research.google.com/github/spetznick/applied-gpu-programming/blob/colab-t/assignment-2.ipynb\" target=\"_parent\"><img src=\"https://colab.research.google.com/assets/colab-badge.svg\" alt=\"Open In Colab\"/></a>"
      ]
    },
    {
      "cell_type": "markdown",
      "source": [
        "### Assignment 2\n",
        "Explain how the program is compiled and run.\n",
        "For a vector length of N:\n",
        "\n",
        "1. How many floating operations are being performed in your vector add kernel?\n",
        "2. How many global memory reads are being performed by your kernel?\n",
        "\n",
        "For a vector length of 512:\n",
        "\n",
        "1. Explain how many CUDA threads and thread blocks you used.\n",
        "2. Profile your program with Nvidia Nsight. What Achieved Occupancy did you get? You might find https://docs.nvidia.com/nsight-compute/NsightComputeCli/index.html#nvprof-metric-comparison\n",
        "Links to an external site. useful.\n",
        "\n",
        "Now increase the vector length to 262140:\n",
        "\n",
        "1. Did your program still work? If not, what changes did you make?\n",
        "2. Explain how many CUDA threads and thread blocks you used.\n",
        "Profile your program with Nvidia Nsight. What Achieved Occupancy do you get now?\n",
        "\n",
        "Further increase the vector length (try 6-10 different vector length), plot a stacked bar chart showing the breakdown of time including (1) data copy from host to device (2) the CUDA kernel (3) data copy from device to host. For this, you will need to add simple CPU timers to your code regions.\n",
        "\n",
        "\n",
        "\n"
      ],
      "metadata": {
        "id": "q0-ZomlNSrF5"
      }
    },
    {
      "cell_type": "code",
      "source": [
        "!nvcc --version\n",
        "!nvidia-smi"
      ],
      "metadata": {
        "colab": {
          "base_uri": "https://localhost:8080/"
        },
        "id": "yJlrROAn5Rqj",
        "outputId": "0c0586f0-38d1-44db-aca2-57a02b38d91a"
      },
      "execution_count": 1,
      "outputs": [
        {
          "output_type": "stream",
          "name": "stdout",
          "text": [
            "nvcc: NVIDIA (R) Cuda compiler driver\n",
            "Copyright (c) 2005-2023 NVIDIA Corporation\n",
            "Built on Tue_Aug_15_22:02:13_PDT_2023\n",
            "Cuda compilation tools, release 12.2, V12.2.140\n",
            "Build cuda_12.2.r12.2/compiler.33191640_0\n",
            "Sun Nov 24 15:04:33 2024       \n",
            "+---------------------------------------------------------------------------------------+\n",
            "| NVIDIA-SMI 535.104.05             Driver Version: 535.104.05   CUDA Version: 12.2     |\n",
            "|-----------------------------------------+----------------------+----------------------+\n",
            "| GPU  Name                 Persistence-M | Bus-Id        Disp.A | Volatile Uncorr. ECC |\n",
            "| Fan  Temp   Perf          Pwr:Usage/Cap |         Memory-Usage | GPU-Util  Compute M. |\n",
            "|                                         |                      |               MIG M. |\n",
            "|=========================================+======================+======================|\n",
            "|   0  Tesla T4                       Off | 00000000:00:04.0 Off |                    0 |\n",
            "| N/A   49C    P8              12W /  70W |      0MiB / 15360MiB |      0%      Default |\n",
            "|                                         |                      |                  N/A |\n",
            "+-----------------------------------------+----------------------+----------------------+\n",
            "                                                                                         \n",
            "+---------------------------------------------------------------------------------------+\n",
            "| Processes:                                                                            |\n",
            "|  GPU   GI   CI        PID   Type   Process name                            GPU Memory |\n",
            "|        ID   ID                                                             Usage      |\n",
            "|=======================================================================================|\n",
            "|  No running processes found                                                           |\n",
            "+---------------------------------------------------------------------------------------+\n"
          ]
        }
      ]
    },
    {
      "cell_type": "markdown",
      "source": [
        "\n",
        "## First exercise of the second assignment\n"
      ],
      "metadata": {
        "id": "vsbr4brQH6v3"
      }
    },
    {
      "cell_type": "code",
      "source": [
        "%%writefile hw2_ex1.cu\n",
        "#include <stdio.h>\n",
        "#include <sys/time.h>\n",
        "\n",
        "#define DataType double\n",
        "\n",
        "__global__ void vecAdd(DataType *in1, DataType *in2, DataType *out, int len) {\n",
        "  int myID = blockIdx.x * blockDim.x + threadIdx.x;\n",
        "  if (myID < len) {\n",
        "    out[myID] = in1[myID] + in2[myID];\n",
        "  }\n",
        "}\n",
        "\n",
        "// Function to calculate mean and standard deviation of an array of floats\n",
        "void calculateMeanAndStdDev(float *times, int numRuns, float *mean, float *stdDev) {\n",
        "  float sum = 0.0;\n",
        "  for (int i = 0; i < numRuns; i++) {\n",
        "    sum += times[i];\n",
        "  }\n",
        "  *mean = sum / numRuns;\n",
        "\n",
        "  float variance = 0.0;\n",
        "  for (int i = 0; i < numRuns; i++) {\n",
        "    variance += (times[i] - *mean) * (times[i] - *mean);\n",
        "  }\n",
        "  *stdDev = sqrt(variance / numRuns);\n",
        "}\n",
        "\n",
        "int main(int argc, char **argv) {\n",
        "  if (argc < 4) {\n",
        "    printf(\"Please provide vector length, thread number, and number of runs as command-line arguments.\\n\");\n",
        "    return 1;\n",
        "  }\n",
        "\n",
        "  int inputLength = strtol(argv[1], NULL, 10);\n",
        "  int numThreadsPerBlock = strtol(argv[2], NULL, 10);\n",
        "  int numRuns = strtol(argv[3], NULL, 10);\n",
        "\n",
        "  int size = inputLength * sizeof(DataType);\n",
        "  DataType *hostInput1 = (DataType *)malloc(size);\n",
        "  DataType *hostInput2 = (DataType *)malloc(size);\n",
        "  DataType *hostOutput = (DataType *)malloc(size);\n",
        "  DataType *resultRef = (DataType *)malloc(size);\n",
        "\n",
        "  // Initialize host inputs with random values\n",
        "  srand(time(NULL));\n",
        "  for (int i = 0; i < inputLength; ++i) {\n",
        "    hostInput1[i] = (DataType)rand() / RAND_MAX;\n",
        "    hostInput2[i] = (DataType)rand() / RAND_MAX;\n",
        "  }\n",
        "\n",
        "  DataType *deviceInput1, *deviceInput2, *deviceOutput;\n",
        "  cudaMalloc(&deviceInput1, size);\n",
        "  cudaMalloc(&deviceInput2, size);\n",
        "  cudaMalloc(&deviceOutput, size);\n",
        "\n",
        "  dim3 blockDim(numThreadsPerBlock);\n",
        "  dim3 gridDim((inputLength + blockDim.x - 1) / blockDim.x);\n",
        "  printf(\"The input length is %d, (numBlocks, numThreadsPerBlock) = (%d, %d).\\n\", inputLength, gridDim.x, blockDim.x);\n",
        "\n",
        "  // CUDA events for timing\n",
        "  cudaEvent_t start, stop;\n",
        "  cudaEventCreate(&start);\n",
        "  cudaEventCreate(&stop);\n",
        "\n",
        "  float *kernelTimes = (float *)malloc(numRuns * sizeof(float));\n",
        "  float *copyToDeviceTimes = (float *)malloc(numRuns * sizeof(float));\n",
        "  float *copyToHostTimes = (float *)malloc(numRuns * sizeof(float));\n",
        "\n",
        "  for (int run = 0; run < numRuns; run++) {\n",
        "    // Time data copy to device\n",
        "    cudaEventRecord(start);\n",
        "    cudaMemcpy(deviceInput1, hostInput1, size, cudaMemcpyHostToDevice);\n",
        "    cudaMemcpy(deviceInput2, hostInput2, size, cudaMemcpyHostToDevice);\n",
        "    cudaEventRecord(stop);\n",
        "    cudaEventSynchronize(stop);\n",
        "    cudaEventElapsedTime(&copyToDeviceTimes[run], start, stop);\n",
        "\n",
        "    // Time kernel execution\n",
        "    cudaEventRecord(start);\n",
        "    vecAdd<<<gridDim, blockDim>>>(deviceInput1, deviceInput2, deviceOutput, inputLength);\n",
        "    cudaEventRecord(stop);\n",
        "    cudaEventSynchronize(stop);\n",
        "    cudaEventElapsedTime(&kernelTimes[run], start, stop);\n",
        "\n",
        "    // Time data copy back to host\n",
        "    cudaEventRecord(start);\n",
        "    cudaMemcpy(hostOutput, deviceOutput, size, cudaMemcpyDeviceToHost);\n",
        "    cudaEventRecord(stop);\n",
        "    cudaEventSynchronize(stop);\n",
        "    cudaEventElapsedTime(&copyToHostTimes[run], start, stop);\n",
        "  }\n",
        "\n",
        "  float meanKernelTime, stdDevKernelTime;\n",
        "  float meanCopyToDeviceTime, stdDevCopyToDeviceTime;\n",
        "  float meanCopyToHostTime, stdDevCopyToHostTime;\n",
        "\n",
        "  calculateMeanAndStdDev(kernelTimes, numRuns, &meanKernelTime, &stdDevKernelTime);\n",
        "  calculateMeanAndStdDev(copyToDeviceTimes, numRuns, &meanCopyToDeviceTime, &stdDevCopyToDeviceTime);\n",
        "  calculateMeanAndStdDev(copyToHostTimes, numRuns, &meanCopyToHostTime, &stdDevCopyToHostTime);\n",
        "\n",
        "  printf(\"Input length %d, (numBlocks, numThreadsPerBlock) = (%d, %d).\\n\", inputLength, gridDim.x, blockDim.x);\n",
        "  printf(\"Average kernel execution time of %d runs: %.4f +- %.4f ms\\n\", numRuns, meanKernelTime, stdDevKernelTime);\n",
        "  printf(\"Average time for data copy to device:     %.4f +- %.4f ms\\n\", meanCopyToDeviceTime, stdDevCopyToDeviceTime);\n",
        "  printf(\"Average time for data copy to host:       %.4f +- %.4f ms\\n\", meanCopyToHostTime, stdDevCopyToHostTime);\n",
        "\n",
        "  // Error checking and final result comparison\n",
        "  for (int i = 0; i < inputLength; ++i) {\n",
        "    resultRef[i] = hostInput1[i] + hostInput2[i];\n",
        "  }\n",
        "  for (int i = 0; i < inputLength; ++i) {\n",
        "    if (abs(resultRef[i] - hostOutput[i]) > 1e-5) {\n",
        "      printf(\"Addition wrong at %i: (cpu, gpu) = (%.3f, %.3f)\\n\", i, resultRef[i], hostOutput[i]);\n",
        "      break;\n",
        "    }\n",
        "  }\n",
        "\n",
        "  cudaFree(deviceInput1);\n",
        "  cudaFree(deviceInput2);\n",
        "  cudaFree(deviceOutput);\n",
        "\n",
        "  free(hostInput1);\n",
        "  free(hostInput2);\n",
        "  free(hostOutput);\n",
        "  free(resultRef);\n",
        "  free(kernelTimes);\n",
        "  free(copyToDeviceTimes);\n",
        "  free(copyToHostTimes);\n",
        "\n",
        "  cudaEventDestroy(start);\n",
        "  cudaEventDestroy(stop);\n",
        "\n",
        "  return 0;\n",
        "}\n"
      ],
      "metadata": {
        "colab": {
          "base_uri": "https://localhost:8080/"
        },
        "id": "1Qa0R2zhEGmL",
        "outputId": "cc69e1e3-65bb-44e4-aa4b-6886dc97be99"
      },
      "execution_count": 2,
      "outputs": [
        {
          "output_type": "stream",
          "name": "stdout",
          "text": [
            "Writing hw2_ex1.cu\n"
          ]
        }
      ]
    },
    {
      "cell_type": "markdown",
      "source": [
        "## We compile the saved cuda code using nvcc compiler"
      ],
      "metadata": {
        "id": "TqdaBa9wIICn"
      }
    },
    {
      "cell_type": "code",
      "source": [
        "!nvcc hw2_ex1.cu -o hw2_ex1\n",
        "!ls\n"
      ],
      "metadata": {
        "colab": {
          "base_uri": "https://localhost:8080/"
        },
        "id": "TvYps9NQ40NC",
        "outputId": "4e04b967-1f98-4f4b-d08e-3a318a1bea86"
      },
      "execution_count": 3,
      "outputs": [
        {
          "output_type": "stream",
          "name": "stdout",
          "text": [
            "hw2_ex1  hw2_ex1.cu  sample_data\n"
          ]
        }
      ]
    },
    {
      "cell_type": "markdown",
      "source": [
        "## Finally, we execute the binary of the compiled code"
      ],
      "metadata": {
        "id": "SUALHJy9IPvG"
      }
    },
    {
      "cell_type": "code",
      "source": [
        "!./hw2_ex1 10 256 10\n",
        "!./hw2_ex1 10 512 10\n",
        "!./hw2_ex1 512 256 10\n",
        "!./hw2_ex1 512 512 10\n",
        "!./hw2_ex1 512 1024 10\n",
        "!./hw2_ex1 10000 256 10\n",
        "!./hw2_ex1 10000 512 10\n",
        "!./hw2_ex1 10000 1024 10\n",
        "!./hw2_ex1 100000 256 10\n",
        "!./hw2_ex1 100000 512 10\n",
        "!./hw2_ex1 100000 1024 10"
      ],
      "metadata": {
        "colab": {
          "base_uri": "https://localhost:8080/"
        },
        "id": "LHmpZNdmy_6-",
        "outputId": "265737f5-6c0e-4ab3-d33d-f0edacbb5787"
      },
      "execution_count": 4,
      "outputs": [
        {
          "output_type": "stream",
          "name": "stdout",
          "text": [
            "The input length is 10, (numBlocks, numThreadsPerBlock) = (1, 256).\n",
            "Input length 10, (numBlocks, numThreadsPerBlock) = (1, 256).\n",
            "Average kernel execution time of 10 runs: 9.6669 +- 28.9798 ms\n",
            "Average time for data copy to device:     0.1117 +- 0.2801 ms\n",
            "Average time for data copy to host:       0.0133 +- 0.0040 ms\n",
            "The input length is 10, (numBlocks, numThreadsPerBlock) = (1, 512).\n",
            "Input length 10, (numBlocks, numThreadsPerBlock) = (1, 512).\n",
            "Average kernel execution time of 10 runs: 0.0226 +- 0.0491 ms\n",
            "Average time for data copy to device:     0.0166 +- 0.0027 ms\n",
            "Average time for data copy to host:       0.0155 +- 0.0060 ms\n",
            "The input length is 512, (numBlocks, numThreadsPerBlock) = (2, 256).\n",
            "Input length 512, (numBlocks, numThreadsPerBlock) = (2, 256).\n",
            "Average kernel execution time of 10 runs: 0.0243 +- 0.0520 ms\n",
            "Average time for data copy to device:     0.0217 +- 0.0065 ms\n",
            "Average time for data copy to host:       0.0146 +- 0.0033 ms\n",
            "The input length is 512, (numBlocks, numThreadsPerBlock) = (1, 512).\n",
            "Input length 512, (numBlocks, numThreadsPerBlock) = (1, 512).\n",
            "Average kernel execution time of 10 runs: 0.0231 +- 0.0480 ms\n",
            "Average time for data copy to device:     0.0199 +- 0.0045 ms\n",
            "Average time for data copy to host:       0.0156 +- 0.0031 ms\n",
            "The input length is 512, (numBlocks, numThreadsPerBlock) = (1, 1024).\n",
            "Input length 512, (numBlocks, numThreadsPerBlock) = (1, 1024).\n",
            "Average kernel execution time of 10 runs: 0.0302 +- 0.0667 ms\n",
            "Average time for data copy to device:     0.0216 +- 0.0045 ms\n",
            "Average time for data copy to host:       0.0144 +- 0.0030 ms\n",
            "The input length is 10000, (numBlocks, numThreadsPerBlock) = (40, 256).\n",
            "Input length 10000, (numBlocks, numThreadsPerBlock) = (40, 256).\n",
            "Average kernel execution time of 10 runs: 0.0306 +- 0.0590 ms\n",
            "Average time for data copy to device:     0.0731 +- 0.0069 ms\n",
            "Average time for data copy to host:       0.0444 +- 0.0156 ms\n",
            "The input length is 10000, (numBlocks, numThreadsPerBlock) = (20, 512).\n",
            "Input length 10000, (numBlocks, numThreadsPerBlock) = (20, 512).\n",
            "Average kernel execution time of 10 runs: 0.0380 +- 0.0848 ms\n",
            "Average time for data copy to device:     0.0761 +- 0.0224 ms\n",
            "Average time for data copy to host:       0.0440 +- 0.0189 ms\n",
            "The input length is 10000, (numBlocks, numThreadsPerBlock) = (10, 1024).\n",
            "Input length 10000, (numBlocks, numThreadsPerBlock) = (10, 1024).\n",
            "Average kernel execution time of 10 runs: 0.0257 +- 0.0477 ms\n",
            "Average time for data copy to device:     0.0628 +- 0.0065 ms\n",
            "Average time for data copy to host:       0.0481 +- 0.0304 ms\n",
            "The input length is 100000, (numBlocks, numThreadsPerBlock) = (391, 256).\n",
            "Input length 100000, (numBlocks, numThreadsPerBlock) = (391, 256).\n",
            "Average kernel execution time of 10 runs: 0.0301 +- 0.0484 ms\n",
            "Average time for data copy to device:     0.4686 +- 0.0339 ms\n",
            "Average time for data copy to host:       0.2853 +- 0.1144 ms\n",
            "The input length is 100000, (numBlocks, numThreadsPerBlock) = (196, 512).\n",
            "Input length 100000, (numBlocks, numThreadsPerBlock) = (196, 512).\n",
            "Average kernel execution time of 10 runs: 0.0399 +- 0.0635 ms\n",
            "Average time for data copy to device:     0.5150 +- 0.0525 ms\n",
            "Average time for data copy to host:       0.4103 +- 0.2360 ms\n",
            "The input length is 100000, (numBlocks, numThreadsPerBlock) = (98, 1024).\n",
            "Input length 100000, (numBlocks, numThreadsPerBlock) = (98, 1024).\n",
            "Average kernel execution time of 10 runs: 0.0339 +- 0.0502 ms\n",
            "Average time for data copy to device:     0.4690 +- 0.0304 ms\n",
            "Average time for data copy to host:       0.2819 +- 0.1139 ms\n"
          ]
        }
      ]
    },
    {
      "cell_type": "markdown",
      "source": [
        "## Vector length 512"
      ],
      "metadata": {
        "id": "0M6oNMWvDBwY"
      }
    },
    {
      "cell_type": "code",
      "source": [
        "!ncu --section \"Occupancy\" ./hw2_ex1 512 512 1"
      ],
      "metadata": {
        "colab": {
          "base_uri": "https://localhost:8080/"
        },
        "id": "97UEqPicE2OA",
        "outputId": "7b9d43f2-b7fd-46bd-bfd9-227fae695650"
      },
      "execution_count": 12,
      "outputs": [
        {
          "output_type": "stream",
          "name": "stdout",
          "text": [
            "==PROF== Connected to process 10007 (/content/hw2_ex1)\n",
            "The input length is 512, (numBlocks, numThreadsPerBlock) = (1, 512).\n",
            "==PROF== Profiling \"vecAdd\" - 0: 0%....50%....100% - 1 pass\n",
            "Input length 512, (numBlocks, numThreadsPerBlock) = (1, 512).\n",
            "Average kernel execution time of 1 runs: 229.7838 +- 0.0000 ms\n",
            "Average time for data copy to device:     0.0413 +- 0.0000 ms\n",
            "Average time for data copy to host:       0.0342 +- 0.0000 ms\n",
            "==PROF== Disconnected from process 10007\n",
            "[10007] hw2_ex1@127.0.0.1\n",
            "  vecAdd(double *, double *, double *, int) (1, 1, 1)x(512, 1, 1), Context 1, Stream 7, Device 0, CC 7.5\n",
            "    Section: Occupancy\n",
            "    ------------------------------- ----------- ------------\n",
            "    Metric Name                     Metric Unit Metric Value\n",
            "    ------------------------------- ----------- ------------\n",
            "    Block Limit SM                        block           16\n",
            "    Block Limit Registers                 block            8\n",
            "    Block Limit Shared Mem                block           16\n",
            "    Block Limit Warps                     block            2\n",
            "    Theoretical Active Warps per SM        warp           32\n",
            "    Theoretical Occupancy                     %          100\n",
            "    Achieved Occupancy                        %        46.04\n",
            "    Achieved Active Warps Per SM           warp        14.73\n",
            "    ------------------------------- ----------- ------------\n",
            "\n",
            "    OPT   Estimated Speedup: 53.96%                                                                                     \n",
            "          This kernel's theoretical occupancy is not impacted by any block limit. The difference between calculated     \n",
            "          theoretical (100.0%) and measured achieved occupancy (46.0%) can be the result of warp scheduling overheads   \n",
            "          or workload imbalances during the kernel execution. Load imbalances can occur between warps within a block    \n",
            "          as well as across blocks of the same kernel. See the CUDA Best Practices Guide                                \n",
            "          (https://docs.nvidia.com/cuda/cuda-c-best-practices-guide/index.html#occupancy) for more details on           \n",
            "          optimizing occupancy.                                                                                         \n",
            "\n"
          ]
        }
      ]
    },
    {
      "cell_type": "markdown",
      "source": [
        "## Vector length 262140"
      ],
      "metadata": {
        "id": "Tx7958UODHoz"
      }
    },
    {
      "cell_type": "code",
      "source": [
        "!ncu --section \"Occupancy\" ./hw2_ex1 262140 512 1"
      ],
      "metadata": {
        "colab": {
          "base_uri": "https://localhost:8080/"
        },
        "id": "fesFqoAj9qRJ",
        "outputId": "d1db80b7-e33c-4e56-dec7-e8406f3e6ecb"
      },
      "execution_count": 18,
      "outputs": [
        {
          "output_type": "stream",
          "name": "stdout",
          "text": [
            "==PROF== Connected to process 11500 (/content/hw2_ex1)\n",
            "The input length is 262140, (numBlocks, numThreadsPerBlock) = (512, 512).\n",
            "==PROF== Profiling \"vecAdd\" - 0: 0%....50%....100% - 1 pass\n",
            "Input length 262140, (numBlocks, numThreadsPerBlock) = (512, 512).\n",
            "Average kernel execution time of 1 runs: 231.2829 +- 0.0000 ms\n",
            "Average time for data copy to device:     1.3434 +- 0.0000 ms\n",
            "Average time for data copy to host:       1.8971 +- 0.0000 ms\n",
            "==PROF== Disconnected from process 11500\n",
            "[11500] hw2_ex1@127.0.0.1\n",
            "  vecAdd(double *, double *, double *, int) (512, 1, 1)x(512, 1, 1), Context 1, Stream 7, Device 0, CC 7.5\n",
            "    Section: Occupancy\n",
            "    ------------------------------- ----------- ------------\n",
            "    Metric Name                     Metric Unit Metric Value\n",
            "    ------------------------------- ----------- ------------\n",
            "    Block Limit SM                        block           16\n",
            "    Block Limit Registers                 block            8\n",
            "    Block Limit Shared Mem                block           16\n",
            "    Block Limit Warps                     block            2\n",
            "    Theoretical Active Warps per SM        warp           32\n",
            "    Theoretical Occupancy                     %          100\n",
            "    Achieved Occupancy                        %        79.64\n",
            "    Achieved Active Warps Per SM           warp        25.49\n",
            "    ------------------------------- ----------- ------------\n",
            "\n",
            "    OPT   Estimated Speedup: 20.36%                                                                                     \n",
            "          This kernel's theoretical occupancy is not impacted by any block limit. The difference between calculated     \n",
            "          theoretical (100.0%) and measured achieved occupancy (79.6%) can be the result of warp scheduling overheads   \n",
            "          or workload imbalances during the kernel execution. Load imbalances can occur between warps within a block    \n",
            "          as well as across blocks of the same kernel. See the CUDA Best Practices Guide                                \n",
            "          (https://docs.nvidia.com/cuda/cuda-c-best-practices-guide/index.html#occupancy) for more details on           \n",
            "          optimizing occupancy.                                                                                         \n",
            "\n"
          ]
        }
      ]
    },
    {
      "cell_type": "markdown",
      "source": [
        "## Experiment with other sizes"
      ],
      "metadata": {
        "id": "MZbex8eZFwIf"
      }
    },
    {
      "cell_type": "code",
      "source": [
        "!./hw2_ex1 100000 256 10\n",
        "!./hw2_ex1 500000 256 10\n",
        "!./hw2_ex1 1000000 256 10\n",
        "!./hw2_ex1 5000000 256 10\n",
        "!./hw2_ex1 10000000 256 10\n",
        "!./hw2_ex1 50000000 256 10"
      ],
      "metadata": {
        "colab": {
          "base_uri": "https://localhost:8080/"
        },
        "id": "knaNKoDu6FVS",
        "outputId": "09d38e66-5699-42f7-bd74-94105092f86c"
      },
      "execution_count": 29,
      "outputs": [
        {
          "output_type": "stream",
          "name": "stdout",
          "text": [
            "The input length is 100000, (numBlocks, numThreadsPerBlock) = (391, 256).\n",
            "Input length 100000, (numBlocks, numThreadsPerBlock) = (391, 256).\n",
            "Average kernel execution time of 10 runs: 0.0305 +- 0.0500 ms\n",
            "Average time for data copy to device:     0.4603 +- 0.0266 ms\n",
            "Average time for data copy to host:       0.3066 +- 0.1274 ms\n",
            "The input length is 500000, (numBlocks, numThreadsPerBlock) = (1954, 256).\n",
            "Input length 500000, (numBlocks, numThreadsPerBlock) = (1954, 256).\n",
            "Average kernel execution time of 10 runs: 0.0644 +- 0.0459 ms\n",
            "Average time for data copy to device:     1.7830 +- 0.1260 ms\n",
            "Average time for data copy to host:       1.1775 +- 0.6521 ms\n",
            "The input length is 1000000, (numBlocks, numThreadsPerBlock) = (3907, 256).\n",
            "Input length 1000000, (numBlocks, numThreadsPerBlock) = (3907, 256).\n",
            "Average kernel execution time of 10 runs: 0.1146 +- 0.0496 ms\n",
            "Average time for data copy to device:     3.4769 +- 0.2609 ms\n",
            "Average time for data copy to host:       2.2141 +- 1.1507 ms\n",
            "The input length is 5000000, (numBlocks, numThreadsPerBlock) = (19532, 256).\n",
            "Input length 5000000, (numBlocks, numThreadsPerBlock) = (19532, 256).\n",
            "Average kernel execution time of 10 runs: 0.4834 +- 0.0628 ms\n",
            "Average time for data copy to device:     16.8406 +- 0.3532 ms\n",
            "Average time for data copy to host:       10.4858 +- 6.1517 ms\n",
            "The input length is 10000000, (numBlocks, numThreadsPerBlock) = (39063, 256).\n",
            "Input length 10000000, (numBlocks, numThreadsPerBlock) = (39063, 256).\n",
            "Average kernel execution time of 10 runs: 0.9443 +- 0.0535 ms\n",
            "Average time for data copy to device:     33.6987 +- 0.4136 ms\n",
            "Average time for data copy to host:       21.4966 +- 13.3889 ms\n",
            "The input length is 50000000, (numBlocks, numThreadsPerBlock) = (195313, 256).\n",
            "Input length 50000000, (numBlocks, numThreadsPerBlock) = (195313, 256).\n",
            "Average kernel execution time of 10 runs: 4.5824 +- 0.0600 ms\n",
            "Average time for data copy to device:     166.8384 +- 1.8256 ms\n",
            "Average time for data copy to host:       104.1809 +- 59.0644 ms\n"
          ]
        }
      ]
    },
    {
      "cell_type": "code",
      "source": [
        "import pandas as pd\n",
        "import seaborn as sns\n",
        "import matplotlib.pyplot as plt\n",
        "\n",
        "import re\n",
        "import pandas as pd\n",
        "\n",
        "def parse_results(results_str):\n",
        "    \"\"\"\n",
        "    Parses the results of multiple test runs and returns a DataFrame.\n",
        "\n",
        "    Args:\n",
        "    - results_str (str): A string containing the test run output.\n",
        "\n",
        "    Returns:\n",
        "    - df (pd.DataFrame): A DataFrame containing the parsed results.\n",
        "    \"\"\"\n",
        "\n",
        "    # Regex pattern to match each block of results for a single input length\n",
        "    pattern = r\"The input length is (\\d+), \\(numBlocks, numThreadsPerBlock\\) = \\(\\d+, \\d+\\).\\s*Input length \\d+, \\(numBlocks, numThreadsPerBlock\\) = \\(\\d+, \\d+\\).\\s*Average kernel execution time of \\d+ runs: ([\\d.]+) \\+- [\\d.]+ ms\\s*Average time for data copy to device: +([\\d.]+) \\+- [\\d.]+ ms\\s*Average time for data copy to host: +([\\d.]+) \\+- [\\d.]+ ms\"\n",
        "\n",
        "    # Use regex to find all matches in the string\n",
        "    matches = re.findall(pattern, results_str)\n",
        "\n",
        "    # Create a list to store the parsed data\n",
        "    data = []\n",
        "\n",
        "    # Parse each match and store as a dictionary\n",
        "    for match in matches:\n",
        "        input_length = int(match[0])\n",
        "        kernel_time = float(match[1])\n",
        "        copy_to_device_time = float(match[2])\n",
        "        copy_to_host_time = float(match[3])\n",
        "\n",
        "        # Append the parsed data to the list\n",
        "        data.append({\n",
        "            \"Input Length\": input_length,\n",
        "            \"Kernel Execution Time (ms)\": kernel_time,\n",
        "            \"Copy to Device Time (ms)\": copy_to_device_time,\n",
        "            \"Copy to Host Time (ms)\": copy_to_host_time\n",
        "        })\n",
        "\n",
        "    # Convert the data list to a DataFrame\n",
        "    df = pd.DataFrame(data)\n",
        "\n",
        "    return df\n",
        "\n",
        "# Example usage with the input printout string\n",
        "results_str = \"\"\"\n",
        "The input length is 100000, (numBlocks, numThreadsPerBlock) = (391, 256).\n",
        "Input length 100000, (numBlocks, numThreadsPerBlock) = (391, 256).\n",
        "Average kernel execution time of 10 runs: 0.0305 +- 0.0500 ms\n",
        "Average time for data copy to device:     0.4603 +- 0.0266 ms\n",
        "Average time for data copy to host:       0.3066 +- 0.1274 ms\n",
        "The input length is 500000, (numBlocks, numThreadsPerBlock) = (1954, 256).\n",
        "Input length 500000, (numBlocks, numThreadsPerBlock) = (1954, 256).\n",
        "Average kernel execution time of 10 runs: 0.0644 +- 0.0459 ms\n",
        "Average time for data copy to device:     1.7830 +- 0.1260 ms\n",
        "Average time for data copy to host:       1.1775 +- 0.6521 ms\n",
        "The input length is 1000000, (numBlocks, numThreadsPerBlock) = (3907, 256).\n",
        "Input length 1000000, (numBlocks, numThreadsPerBlock) = (3907, 256).\n",
        "Average kernel execution time of 10 runs: 0.1146 +- 0.0496 ms\n",
        "Average time for data copy to device:     3.4769 +- 0.2609 ms\n",
        "Average time for data copy to host:       2.2141 +- 1.1507 ms\n",
        "The input length is 5000000, (numBlocks, numThreadsPerBlock) = (19532, 256).\n",
        "Input length 5000000, (numBlocks, numThreadsPerBlock) = (19532, 256).\n",
        "Average kernel execution time of 10 runs: 0.4834 +- 0.0628 ms\n",
        "Average time for data copy to device:     16.8406 +- 0.3532 ms\n",
        "Average time for data copy to host:       10.4858 +- 6.1517 ms\n",
        "The input length is 10000000, (numBlocks, numThreadsPerBlock) = (39063, 256).\n",
        "Input length 10000000, (numBlocks, numThreadsPerBlock) = (39063, 256).\n",
        "Average kernel execution time of 10 runs: 0.9443 +- 0.0535 ms\n",
        "Average time for data copy to device:     33.6987 +- 0.4136 ms\n",
        "Average time for data copy to host:       21.4966 +- 13.3889 ms\n",
        "The input length is 50000000, (numBlocks, numThreadsPerBlock) = (195313, 256).\n",
        "Input length 50000000, (numBlocks, numThreadsPerBlock) = (195313, 256).\n",
        "Average kernel execution time of 10 runs: 4.5824 +- 0.0600 ms\n",
        "Average time for data copy to device:     166.8384 +- 1.8256 ms\n",
        "Average time for data copy to host:       104.1809 +- 59.0644 ms\n",
        "\"\"\"\n",
        "\n",
        "# Parse the results\n",
        "df = parse_results(results_str)\n",
        "\n",
        "# Print the resulting DataFrame\n",
        "print(df)\n",
        "\n",
        "# # Data preparation\n",
        "# data = {\n",
        "#     \"Input Length\": [100000, 1000000, 5000000, 10000000, 50000000, 100000000],\n",
        "#     \"Kernel Execution Time (ms)\": [0.0332, 0.1134, 0.4788, 0.9397, 4.5879, 9.1720],\n",
        "#     \"Copy to Device Time (ms)\": [0.4653, 3.2890, 16.9438, 34.2606, 171.6111, 335.4579],\n",
        "#     \"Copy to Host Time (ms)\": [0.3076, 2.1924, 10.8117, 21.0833, 104.4536, 207.1870]\n",
        "# }\n",
        "\n",
        "# # Convert the data into a pandas DataFrame\n",
        "# df = pd.DataFrame(data)\n",
        "\n",
        "# Reshape the DataFrame for a stacked bar plot\n",
        "df_melted = df.melt(id_vars=\"Input Length\",\n",
        "                    value_vars=[\"Copy to Device Time (ms)\", \"Copy to Host Time (ms)\", \"Kernel Execution Time (ms)\"],\n",
        "                    var_name=\"Operation\",\n",
        "                    value_name=\"Time (ms)\")\n",
        "\n",
        "# Plotting the stacked bar plot\n",
        "# plt.figure(figsize=(12, 6))\n",
        "# sns.barplot(data=df_melted, x=\"Input Length\", y=\"Time (ms)\", hue=\"Operation\", dodge=False)\n",
        "\n",
        "# # Adding plot details\n",
        "# plt.title(\"Average Times for Data Copy and Kernel Execution\")\n",
        "# plt.xlabel(\"Input Length\")\n",
        "# plt.ylabel(\"Average Time (ms)\")\n",
        "# plt.yscale(\"log\")  # Log scale can help better visualize the differences across large ranges\n",
        "# plt.legend(title=\"Operation\", loc=\"upper left\")\n",
        "\n",
        "# plt.show()\n",
        "\n",
        "# Create a list of unique \"Input Length\" values\n",
        "unique_input_lengths = df_melted[\"Input Length\"].unique()\n",
        "\n",
        "# Determine the number of subplots based on unique input lengths\n",
        "num_subplots = len(unique_input_lengths)\n",
        "\n",
        "# Set up the figure for subplots\n",
        "fig, axes = plt.subplots(2, 3, figsize=(24, 12))\n",
        "\n",
        "axes = axes.flatten()\n",
        "\n",
        "# Iterate over each unique input length and create a subplot\n",
        "for i, input_length in enumerate(unique_input_lengths):\n",
        "    ax = axes[i] if num_subplots > 1 else axes  # Handle case where there's only one subplot\n",
        "    sns.barplot(\n",
        "        data=df_melted[df_melted[\"Input Length\"] == input_length],\n",
        "        x=\"Input Length\",\n",
        "        y=\"Time (ms)\",\n",
        "        hue=\"Operation\",\n",
        "        dodge=False,\n",
        "        ax=ax\n",
        "    )\n",
        "\n",
        "    # Add subplot details\n",
        "    ax.set_title(f\"Average Times for Input Length: {input_length}\")\n",
        "    ax.set_xlabel(\"Input Length\")\n",
        "    ax.set_ylabel(\"Average Time (ms)\")\n",
        "    # ax.set_yscale(\"log\")  # Log scale\n",
        "    ax.legend(title=\"Operation\", loc=\"upper left\")\n",
        "\n",
        "# Adjust layout to prevent overlap\n",
        "plt.tight_layout()\n",
        "\n",
        "plt.show()"
      ],
      "metadata": {
        "colab": {
          "base_uri": "https://localhost:8080/",
          "height": 940
        },
        "id": "Zn8Bi32pGR3L",
        "outputId": "ce63ba6f-749e-45e8-d659-b88ec2bc7019"
      },
      "execution_count": 34,
      "outputs": [
        {
          "output_type": "stream",
          "name": "stdout",
          "text": [
            "   Input Length  Kernel Execution Time (ms)  Copy to Device Time (ms)  \\\n",
            "0        100000                      0.0305                    0.4603   \n",
            "1        500000                      0.0644                    1.7830   \n",
            "2       1000000                      0.1146                    3.4769   \n",
            "3       5000000                      0.4834                   16.8406   \n",
            "4      10000000                      0.9443                   33.6987   \n",
            "5      50000000                      4.5824                  166.8384   \n",
            "\n",
            "   Copy to Host Time (ms)  \n",
            "0                  0.3066  \n",
            "1                  1.1775  \n",
            "2                  2.2141  \n",
            "3                 10.4858  \n",
            "4                 21.4966  \n",
            "5                104.1809  \n"
          ]
        },
        {
          "output_type": "display_data",
          "data": {
            "text/plain": [
              "<Figure size 2400x1200 with 6 Axes>"
            ],
            "image/png": "[encoded data removed]"
          },
          "metadata": {}
        }
      ]
    },
    {
      "cell_type": "code",
      "source": [
        "df_total = df_melted.groupby(\"Input Length\")[\"Time (ms)\"].sum().reset_index()\n",
        "\n",
        "# Create the plot\n",
        "plt.figure(figsize=(10, 6))\n",
        "sns.barplot(data=df_total, x=\"Input Length\", y=\"Time (ms)\", color=\"skyblue\")\n",
        "\n",
        "# Adding plot details\n",
        "plt.title(\"Total Computation Times for Different Input Lengths\")\n",
        "plt.xlabel(\"Input Length\")\n",
        "plt.ylabel(\"Total Time (ms)\")\n",
        "plt.yscale(\"log\")  # Log scale for better visualization of large differences\n",
        "\n",
        "plt.show()"
      ],
      "metadata": {
        "id": "FL2lfRvc7oHr",
        "outputId": "f6f2b124-9284-4b76-e7fa-5f3d503a3e76",
        "colab": {
          "base_uri": "https://localhost:8080/",
          "height": 564
        }
      },
      "execution_count": 35,
      "outputs": [
        {
          "output_type": "display_data",
          "data": {
            "text/plain": [
              "<Figure size 1000x600 with 1 Axes>"
            ],
            "image/png": "[encoded data removed]"
          },
          "metadata": {}
        }
      ]
    },
    {
      "cell_type": "code",
      "source": [
        "%%writefile hw2_ex2.cu\n",
        "#include <stdio.h>\n",
        "#include <sys/time.h>\n",
        "\n",
        "#define DataType double\n",
        "\n",
        "// Compute C = A * B each thread computes a single entry\n",
        "__global__ void gemm(DataType *A, DataType *B, DataType *C, int numARows,\n",
        "                      int numAColumns, int numBRows, int numBColumns){\n",
        "  //@@ Insert code to implement matrix multiplication here\n",
        "  DataType cValue = 0;\n",
        "  int row = blockIdx.y * blockDim.y + threadIdx.y;\n",
        "  int col = blockIdx.x * blockDim.x + threadIdx.x;\n",
        "  if (row < numARows && col < numBColumns) {\n",
        "    for (int i = 0; i < numAColumns; ++i) {\n",
        "      cValue += A[row * numAColumns + i] * B[i * numBColumns + col];\n",
        "    }\n",
        "    C[row * numBColumns + col] = cValue;\n",
        "  }\n",
        "}\n",
        "\n",
        "void printMatrix(const double *matrix, int numRows, int numCols) {\n",
        "    for (int i = 0; i < numRows; ++i) {\n",
        "        for (int j = 0; j < numCols; ++j) {\n",
        "            printf(\"%8.4f \", matrix[i * numCols + j]);\n",
        "        }\n",
        "        printf(\"\\n\");\n",
        "    }\n",
        "    printf(\"\\n\");\n",
        "}\n",
        "\n",
        "\n",
        "// Function to calculate mean and standard deviation of an array of floats\n",
        "void calculateMeanAndStdDev(float *times, int numRuns, float *mean, float *stdDev) {\n",
        "  float sum = 0.0;\n",
        "  for (int i = 0; i < numRuns; i++) {\n",
        "    sum += times[i];\n",
        "  }\n",
        "  *mean = sum / numRuns;\n",
        "\n",
        "  float variance = 0.0;\n",
        "  for (int i = 0; i < numRuns; i++) {\n",
        "    variance += (times[i] - *mean) * (times[i] - *mean);\n",
        "  }\n",
        "  *stdDev = sqrt(variance / numRuns);\n",
        "}\n",
        "\n",
        "int main(int argc, char **argv) {\n",
        "\n",
        "  DataType *hostA; // The A matrix\n",
        "  DataType *hostB; // The B matrix\n",
        "  DataType *hostC; // The output C matrix\n",
        "  DataType *resultRef; // The reference result\n",
        "  DataType *deviceA;\n",
        "  DataType *deviceB;\n",
        "  DataType *deviceC;\n",
        "  int numARows;    // number of rows in the matrix A\n",
        "  int numAColumns; // number of columns in the matrix A\n",
        "  int numBRows;    // number of rows in the matrix B\n",
        "  int numBColumns; // number of columns in the matrix B\n",
        "  int numCRows;\n",
        "  int numCColumns;\n",
        "  int numRuns;\n",
        "\n",
        "  //@@ Insert code below to read in numARows, numAColumns, numBColumns from args\n",
        "  if (argc < 6) {\n",
        "    printf(\"Please provide number of matrix rows and columns of A and B, respectively, and the number of runs as command-line arguments.\\n\");\n",
        "    return 1;\n",
        "  }\n",
        "\n",
        "  numARows = strtol(argv[1], NULL, 10);\n",
        "  numAColumns = strtol(argv[2], NULL, 10);\n",
        "  numBRows = strtol(argv[3], NULL, 10);\n",
        "  numBColumns = strtol(argv[4], NULL, 10);\n",
        "  numRuns = strtol(argv[5], NULL, 10);\n",
        "  numCRows = numARows;\n",
        "  numCColumns = numBColumns;\n",
        "\n",
        "  //! Input dim is given as expected by user but internally, B matrix is stored in column-major\n",
        "  printf(\"Input matrix dim (%d x %d) (%d x %d) (%d x %d)\\n\", numARows, numAColumns, numBRows, numBColumns, numCRows, numCColumns);\n",
        "\n",
        "\n",
        "  //@@ Insert code below to allocate Host memory for input and output\n",
        "  int sizeA = numAColumns * numARows * sizeof(DataType);\n",
        "  int sizeB = numBColumns * numBRows * sizeof(DataType);\n",
        "  int sizeC = numCColumns * numCRows * sizeof(DataType);\n",
        "  hostA = (DataType *)malloc(sizeA);\n",
        "  hostB = (DataType *)malloc(sizeB);\n",
        "  hostC = (DataType *)malloc(sizeC);\n",
        "  resultRef = (DataType *)malloc(sizeC);\n",
        "\n",
        "\n",
        "  //@@ Insert code below to initialize hostA and hostB to random numbers, and create reference result in CPU\n",
        "  srand(time(NULL));\n",
        "  for (int i = 0; i < numARows * numAColumns; ++i) {\n",
        "      hostA[i] = (DataType)rand() / RAND_MAX;\n",
        "  }\n",
        "  for (int i = 0; i < numBRows * numBColumns; ++i) {\n",
        "      hostB[i] = (DataType)rand() / RAND_MAX;\n",
        "  }\n",
        "\n",
        "  //@@ Insert code below to allocate GPU memory here\n",
        "  cudaMalloc(&deviceA, sizeA);\n",
        "  cudaMalloc(&deviceB, sizeB);\n",
        "  cudaMalloc(&deviceC, sizeC);\n",
        "\n",
        "  //@@ Initialize the grid and block dimensions here\n",
        "  // 16x16 should be possible for most architectures\n",
        "  dim3 blockDim(16, 16);\n",
        "  dim3 gridDim((numBColumns + blockDim.x - 1) / blockDim.x,\n",
        "              (numARows + blockDim.y - 1) / blockDim.y);\n",
        "\n",
        "  // CUDA events for timing\n",
        "  cudaEvent_t start, stop;\n",
        "  cudaEventCreate(&start);\n",
        "  cudaEventCreate(&stop);\n",
        "\n",
        "  float *kernelTimes = (float *)malloc(numRuns * sizeof(float));\n",
        "  float *copyToDeviceTimes = (float *)malloc(numRuns * sizeof(float));\n",
        "  float *copyToHostTimes = (float *)malloc(numRuns * sizeof(float));\n",
        "\n",
        "  for (int run = 0; run < numRuns; run++) {\n",
        "    //@@ Insert code to below to Copy memory to the GPU here\n",
        "    // Time data copy to device\n",
        "    cudaEventRecord(start);\n",
        "    cudaMemcpy(deviceA, hostA, sizeA, cudaMemcpyHostToDevice);\n",
        "    cudaMemcpy(deviceB, hostB, sizeB, cudaMemcpyHostToDevice);\n",
        "    cudaEventRecord(stop);\n",
        "    cudaEventSynchronize(stop);\n",
        "    cudaEventElapsedTime(&copyToDeviceTimes[run], start, stop);\n",
        "\n",
        "    //@@ Launch the GPU Kernel here\n",
        "    cudaEventRecord(start);\n",
        "    gemm<<<gridDim, blockDim>>>(deviceA, deviceB, deviceC, numARows,\n",
        "                      numAColumns, numBRows, numBColumns);\n",
        "    cudaEventRecord(stop);\n",
        "    cudaEventSynchronize(stop);\n",
        "    cudaEventElapsedTime(&kernelTimes[run], start, stop);\n",
        "\n",
        "    //@@ Copy the GPU memory back to the CPU here\n",
        "    cudaEventRecord(start);\n",
        "    cudaMemcpy(hostC, deviceC, sizeC, cudaMemcpyDeviceToHost);\n",
        "    cudaEventRecord(stop);\n",
        "    cudaEventSynchronize(stop);\n",
        "    cudaEventElapsedTime(&copyToHostTimes[run], start, stop);\n",
        "  }\n",
        "\n",
        "  float meanKernelTime, stdDevKernelTime;\n",
        "  float meanCopyToDeviceTime, stdDevCopyToDeviceTime;\n",
        "  float meanCopyToHostTime, stdDevCopyToHostTime;\n",
        "\n",
        "  calculateMeanAndStdDev(kernelTimes, numRuns, &meanKernelTime, &stdDevKernelTime);\n",
        "  calculateMeanAndStdDev(copyToDeviceTimes, numRuns, &meanCopyToDeviceTime, &stdDevCopyToDeviceTime);\n",
        "  calculateMeanAndStdDev(copyToHostTimes, numRuns, &meanCopyToHostTime, &stdDevCopyToHostTime);\n",
        "\n",
        "  printf(\"Average kernel execution time of %d runs: %.4f +- %.4f ms\\n\", numRuns, meanKernelTime, stdDevKernelTime);\n",
        "  printf(\"Average time for data copy to device:     %.4f +- %.4f ms\\n\", meanCopyToDeviceTime, stdDevCopyToDeviceTime);\n",
        "  printf(\"Average time for data copy to host:       %.4f +- %.4f ms\\n\", meanCopyToHostTime, stdDevCopyToHostTime);\n",
        "\n",
        "  //@@ Insert code below to compare the output with the reference\n",
        "  for (int row = 0; row < numARows; ++row) {\n",
        "      for (int col = 0; col < numBColumns; ++col) {\n",
        "          resultRef[row * numBColumns + col] = 0.0;\n",
        "          for (int k = 0; k < numAColumns; ++k) {\n",
        "              resultRef[row * numBColumns + col] += hostA[row * numAColumns + k] * hostB[k * numBColumns + col];\n",
        "          }\n",
        "      }\n",
        "  }\n",
        "\n",
        "  DataType eps = 1e-5;\n",
        "  for (int i = 0; i < numCRows * numCColumns; ++i) {\n",
        "    if (fabs(hostC[i] - resultRef[i]) > eps) {\n",
        "        printf(\"Result wrong at index %d\\n\", i);\n",
        "    }\n",
        "  }\n",
        "\n",
        "  //@@ Free the GPU memory here\n",
        "  cudaFree(deviceA);\n",
        "  cudaFree(deviceB);\n",
        "  cudaFree(deviceC);\n",
        "  //@@ Free the CPU memory here\n",
        "  free(hostA);\n",
        "  free(hostB);\n",
        "  free(hostC);\n",
        "  free(resultRef);\n",
        "  free(kernelTimes);\n",
        "  free(copyToDeviceTimes);\n",
        "  free(copyToHostTimes);\n",
        "\n",
        "  // Free timer memory\n",
        "  cudaEventDestroy(start);\n",
        "  cudaEventDestroy(stop);\n",
        "\n",
        "  return 0;\n",
        "}\n"
      ],
      "metadata": {
        "id": "6QgfnlpRHg1-",
        "outputId": "b9bdf365-b2ee-40b0-dea5-68315f314f30",
        "colab": {
          "base_uri": "https://localhost:8080/"
        }
      },
      "execution_count": 36,
      "outputs": [
        {
          "output_type": "stream",
          "name": "stdout",
          "text": [
            "Writing hw2_ex2.cu\n"
          ]
        }
      ]
    },
    {
      "cell_type": "code",
      "source": [
        "!nvcc hw2_ex2.cu -o hw2_ex2\n",
        "!ls"
      ],
      "metadata": {
        "id": "W0VIvGabdT49",
        "outputId": "3a6d961e-56a6-4df1-b74a-6d3b1bb52cae",
        "colab": {
          "base_uri": "https://localhost:8080/"
        }
      },
      "execution_count": 37,
      "outputs": [
        {
          "output_type": "stream",
          "name": "stdout",
          "text": [
            "hw2_ex1  hw2_ex1.cu  hw2_ex2  hw2_ex2.cu  sample_data\n"
          ]
        }
      ]
    },
    {
      "cell_type": "code",
      "source": [
        "!ncu --section \"Occupancy\" ./hw2_ex2 64 128 128 64 1"
      ],
      "metadata": {
        "id": "d18jtMEF2N9S"
      },
      "execution_count": null,
      "outputs": []
    },
    {
      "cell_type": "code",
      "source": [
        "!./hw2_ex2 1024 1023 1023 8193 1"
      ],
      "metadata": {
        "id": "UKsjKfzkCwj0",
        "outputId": "71fc7c9f-2163-43b7-d5a7-91c6ae7af748",
        "colab": {
          "base_uri": "https://localhost:8080/"
        }
      },
      "execution_count": null,
      "outputs": [
        {
          "output_type": "stream",
          "name": "stdout",
          "text": [
            "Input matrix dim (3409 x 3408) (3408 x 27363) (3409 x 27363)\n",
            "Average kernel execution time of 1 runs: 3839.7095 +- 0.0000 ms\n",
            "Average time for data copy to device:     180.3478 +- 0.0000 ms\n",
            "Average time for data copy to host:       577.5593 +- 0.0000 ms\n"
          ]
        }
      ]
    },
    {
      "cell_type": "code",
      "source": [
        "!ncu --section \"Occupancy\" ./hw2_ex2 1024 1023 1023 8193 1"
      ],
      "metadata": {
        "id": "kWB5ZntKCX8r"
      },
      "execution_count": null,
      "outputs": []
    },
    {
      "cell_type": "markdown",
      "source": [
        "\n",
        "1. Name three applications domains of matrix multiplication.\n",
        "2. How many floating operations are being performed in your matrix multiply kernel?\n",
        "3. How many global memory reads are being performed by your kernel?  \n",
        "4. For a matrix A of (64x128) and B of (128x64):\n",
        "  - Explain how many CUDA threads and thread blocks you used.\n",
        "  - Profile your program with Nvidia Nsight. What Achieved Occupancy did you get?\n",
        "5. For a matrix A of (1024x1023) and B of (1023x8193):\n",
        "  - Did your program still work? If not, what changes did you make?\n",
        "  - Explain how many CUDA threads and thread blocks you used.\n",
        "  - Profile your program with Nvidia Nsight. What Achieved Occupancy do you get now?\n",
        "6. Further increase the size of matrix A and B, plot a stacked bar chart showing the breakdown of time including (1) data copy from host to device (2) the CUDA kernel (3) data copy from device to host. For this, you will need to add simple CPU timers to your code regions. Explain what you observe.\n",
        "7. Now, change DataType from double to float, re-plot the a stacked bar chart showing the time breakdown. Explain what you observe.\n"
      ],
      "metadata": {
        "id": "LcT1mBOdjhXb"
      }
    }
  ]
}