{
  "nbformat": 4,
  "nbformat_minor": 0,
  "metadata": {
    "colab": {
      "provenance": [],
      "gpuType": "T4",
      "include_colab_link": true
    },
    "kernelspec": {
      "name": "python3",
      "display_name": "Python 3"
    },
    "language_info": {
      "name": "python"
    },
    "accelerator": "GPU"
  },
  "cells": [
    {
      "cell_type": "markdown",
      "metadata": {
        "id": "view-in-github",
        "colab_type": "text"
      },
      "source": [
        "<a href=\"https://colab.research.google.com/github/spetznick/applied-gpu-programming/blob/colab-s/assignment-2.ipynb\" target=\"_parent\"><img src=\"https://colab.research.google.com/assets/colab-badge.svg\" alt=\"Open In Colab\"/></a>"
      ]
    },
    {
      "cell_type": "markdown",
      "source": [
        "### Assignment 2\n",
        "Explain how the program is compiled and run.\n",
        "For a vector length of N:\n",
        "\n",
        "1. How many floating operations are being performed in your vector add kernel?\n",
        "2. How many global memory reads are being performed by your kernel?\n",
        "\n",
        "For a vector length of 512:\n",
        "\n",
        "1. Explain how many CUDA threads and thread blocks you used.\n",
        "2. Profile your program with Nvidia Nsight. What Achieved Occupancy did you get? You might find https://docs.nvidia.com/nsight-compute/NsightComputeCli/index.html#nvprof-metric-comparison\n",
        "Links to an external site. useful.\n",
        "\n",
        "Now increase the vector length to 262140:\n",
        "\n",
        "1. Did your program still work? If not, what changes did you make?\n",
        "2. Explain how many CUDA threads and thread blocks you used.\n",
        "Profile your program with Nvidia Nsight. What Achieved Occupancy do you get now?\n",
        "\n",
        "Further increase the vector length (try 6-10 different vector length), plot a stacked bar chart showing the breakdown of time including (1) data copy from host to device (2) the CUDA kernel (3) data copy from device to host. For this, you will need to add simple CPU timers to your code regions.\n",
        "\n",
        "\n",
        "\n"
      ],
      "metadata": {
        "id": "q0-ZomlNSrF5"
      }
    },
    {
      "cell_type": "code",
      "source": [
        "!nvcc --version\n",
        "!nvidia-smi"
      ],
      "metadata": {
        "colab": {
          "base_uri": "https://localhost:8080/"
        },
        "id": "yJlrROAn5Rqj",
        "outputId": "98b53e63-a295-4764-d57a-79842f590866"
      },
      "execution_count": 1,
      "outputs": [
        {
          "output_type": "stream",
          "name": "stdout",
          "text": [
            "nvcc: NVIDIA (R) Cuda compiler driver\n",
            "Copyright (c) 2005-2023 NVIDIA Corporation\n",
            "Built on Tue_Aug_15_22:02:13_PDT_2023\n",
            "Cuda compilation tools, release 12.2, V12.2.140\n",
            "Build cuda_12.2.r12.2/compiler.33191640_0\n",
            "Wed Nov 13 13:38:48 2024       \n",
            "+---------------------------------------------------------------------------------------+\n",
            "| NVIDIA-SMI 535.104.05             Driver Version: 535.104.05   CUDA Version: 12.2     |\n",
            "|-----------------------------------------+----------------------+----------------------+\n",
            "| GPU  Name                 Persistence-M | Bus-Id        Disp.A | Volatile Uncorr. ECC |\n",
            "| Fan  Temp   Perf          Pwr:Usage/Cap |         Memory-Usage | GPU-Util  Compute M. |\n",
            "|                                         |                      |               MIG M. |\n",
            "|=========================================+======================+======================|\n",
            "|   0  Tesla T4                       Off | 00000000:00:04.0 Off |                    0 |\n",
            "| N/A   62C    P8              13W /  70W |      0MiB / 15360MiB |      0%      Default |\n",
            "|                                         |                      |                  N/A |\n",
            "+-----------------------------------------+----------------------+----------------------+\n",
            "                                                                                         \n",
            "+---------------------------------------------------------------------------------------+\n",
            "| Processes:                                                                            |\n",
            "|  GPU   GI   CI        PID   Type   Process name                            GPU Memory |\n",
            "|        ID   ID                                                             Usage      |\n",
            "|=======================================================================================|\n",
            "|  No running processes found                                                           |\n",
            "+---------------------------------------------------------------------------------------+\n"
          ]
        }
      ]
    },
    {
      "cell_type": "markdown",
      "source": [
        "\n",
        "## First exercise of the second assignment\n"
      ],
      "metadata": {
        "id": "vsbr4brQH6v3"
      }
    },
    {
      "cell_type": "code",
      "source": [
        "%%writefile hw2_ex1.cu\n",
        "#include <stdio.h>\n",
        "#include <stdio.h>\n",
        "#include <sys/time.h>\n",
        "\n",
        "#define DataType double\n",
        "\n",
        "__global__ void vecAdd(DataType *in1, DataType *in2, DataType *out, int len) {\n",
        "  int myID = blockIdx.x*blockDim.x + threadIdx.x;\n",
        "  if (myID < len) {\n",
        "    out[myID] = in1[myID] + in2[myID];\n",
        "  }\n",
        "}\n",
        "\n",
        "// Function to calculate mean and standard deviation of an array of floats\n",
        "void calculateMeanAndStdDev(float *times, int numRuns, float *mean, float *stdDev) {\n",
        "  float sum = 0.0;\n",
        "  for (int i = 0; i < numRuns; i++) {\n",
        "    sum += times[i];\n",
        "  }\n",
        "  *mean = sum / numRuns;\n",
        "\n",
        "  float variance = 0.0;\n",
        "  for (int i = 0; i < numRuns; i++) {\n",
        "    variance += (times[i] - *mean) * (times[i] - *mean);\n",
        "  }\n",
        "  *stdDev = sqrt(variance / numRuns);\n",
        "}\n",
        "\n",
        "int main(int argc, char **argv) {\n",
        "  if (argc < 4) {\n",
        "    printf(\"Please provide vector length, thread number, and number of runs as command-line arguments.\\n\");\n",
        "    return 1;\n",
        "  }\n",
        "\n",
        "  int inputLength = strtol(argv[1], NULL, 10);\n",
        "  int numThreadsPerBlock = strtol(argv[2], NULL, 10);\n",
        "  int numRuns = strtol(argv[3], NULL, 10);\n",
        "\n",
        "  int size = inputLength * sizeof(DataType);\n",
        "  DataType *hostInput1 = (DataType *)malloc(size);\n",
        "  DataType *hostInput2 = (DataType *)malloc(size);\n",
        "  DataType *hostOutput = (DataType *)malloc(size);\n",
        "  DataType *resultRef = (DataType *)malloc(size);\n",
        "\n",
        "  // Initialize host inputs with random values\n",
        "  srand(time(NULL));\n",
        "  for (int i = 0; i < inputLength; ++i) {\n",
        "    hostInput1[i] = (DataType)rand() / RAND_MAX;\n",
        "    hostInput2[i] = (DataType)rand() / RAND_MAX;\n",
        "  }\n",
        "\n",
        "  DataType *deviceInput1, *deviceInput2, *deviceOutput;\n",
        "  cudaMalloc(&deviceInput1, size);\n",
        "  cudaMalloc(&deviceInput2, size);\n",
        "  cudaMalloc(&deviceOutput, size);\n",
        "\n",
        "  cudaMemcpy(deviceInput1, hostInput1, size, cudaMemcpyHostToDevice);\n",
        "  cudaMemcpy(deviceInput2, hostInput2, size, cudaMemcpyHostToDevice);\n",
        "\n",
        "  dim3 blockDim(numThreadsPerBlock);\n",
        "  dim3 gridDim((inputLength + blockDim.x - 1) / blockDim.x);\n",
        "\n",
        "  // CUDA events for timing\n",
        "  cudaEvent_t start, stop;\n",
        "  cudaEventCreate(&start);\n",
        "  cudaEventCreate(&stop);\n",
        "\n",
        "  float *times = (float *)malloc(numRuns * sizeof(float));\n",
        "\n",
        "  for (int run = 0; run < numRuns; run++) {\n",
        "    cudaEventRecord(start, 0);\n",
        "\n",
        "    // Launch the kernel\n",
        "    vecAdd<<<gridDim, blockDim>>>(deviceInput1, deviceInput2, deviceOutput, inputLength);\n",
        "\n",
        "    cudaEventRecord(stop, 0);\n",
        "    cudaEventSynchronize(stop);\n",
        "\n",
        "    float milliseconds = 0;\n",
        "    cudaEventElapsedTime(&milliseconds, start, stop);\n",
        "    times[run] = milliseconds;\n",
        "  }\n",
        "\n",
        "  float mean, stdDev;\n",
        "  calculateMeanAndStdDev(times, numRuns, &mean, &stdDev);\n",
        "\n",
        "  printf(\"Input length %d, (numBlocks, numThreadsPerBlock) = (%d, %d).\\n\", inputLength, gridDim.x, blockDim.x);\n",
        "  printf(\"Average kernel execution time of %d runs: %.4f +- %.4f ms\\n\", numRuns, mean, stdDev);\n",
        "\n",
        "  // Error checking and final result comparison\n",
        "  cudaMemcpy(hostOutput, deviceOutput, size, cudaMemcpyDeviceToHost);\n",
        "\n",
        "  for (int i = 0; i < inputLength; ++i) {\n",
        "    resultRef[i] = hostInput1[i] + hostInput2[i];\n",
        "  }\n",
        "  for (int i = 0; i < inputLength; ++i) {\n",
        "    if (abs(resultRef[i] - hostOutput[i]) > 1e-5) {\n",
        "      printf(\"Addition wrong at %i: (cpu, gpu) = (%.3f, %.3f)\\n\", i, resultRef[i], hostOutput[i]);\n",
        "      break;\n",
        "    }\n",
        "  }\n",
        "\n",
        "  cudaFree(deviceInput1);\n",
        "  cudaFree(deviceInput2);\n",
        "  cudaFree(deviceOutput);\n",
        "\n",
        "  free(hostInput1);\n",
        "  free(hostInput2);\n",
        "  free(hostOutput);\n",
        "  free(resultRef);\n",
        "  free(times);\n",
        "\n",
        "  cudaEventDestroy(start);\n",
        "  cudaEventDestroy(stop);\n",
        "\n",
        "  return 0;\n",
        "}\n"
      ],
      "metadata": {
        "id": "WXtVtmdQBD3h",
        "outputId": "ea9bf142-d948-48c1-d860-007118f3f411",
        "colab": {
          "base_uri": "https://localhost:8080/"
        }
      },
      "execution_count": 79,
      "outputs": [
        {
          "output_type": "stream",
          "name": "stdout",
          "text": [
            "Overwriting hw2_ex1.cu\n"
          ]
        }
      ]
    },
    {
      "cell_type": "code",
      "source": [
        "%%writefile hw2_ex1.cu\n",
        "#include <stdio.h>\n",
        "#include <sys/time.h>\n",
        "\n",
        "#define DataType double\n",
        "\n",
        "__global__ void vecAdd(DataType *in1, DataType *in2, DataType *out, int len) {\n",
        "  int myID = blockIdx.x * blockDim.x + threadIdx.x;\n",
        "  if (myID < len) {\n",
        "    out[myID] = in1[myID] + in2[myID];\n",
        "  }\n",
        "}\n",
        "\n",
        "// Function to calculate mean and standard deviation of an array of floats\n",
        "void calculateMeanAndStdDev(float *times, int numRuns, float *mean, float *stdDev) {\n",
        "  float sum = 0.0;\n",
        "  for (int i = 0; i < numRuns; i++) {\n",
        "    sum += times[i];\n",
        "  }\n",
        "  *mean = sum / numRuns;\n",
        "\n",
        "  float variance = 0.0;\n",
        "  for (int i = 0; i < numRuns; i++) {\n",
        "    variance += (times[i] - *mean) * (times[i] - *mean);\n",
        "  }\n",
        "  *stdDev = sqrt(variance / numRuns);\n",
        "}\n",
        "\n",
        "int main(int argc, char **argv) {\n",
        "  if (argc < 4) {\n",
        "    printf(\"Please provide vector length, thread number, and number of runs as command-line arguments.\\n\");\n",
        "    return 1;\n",
        "  }\n",
        "\n",
        "  int inputLength = strtol(argv[1], NULL, 10);\n",
        "  int numThreadsPerBlock = strtol(argv[2], NULL, 10);\n",
        "  int numRuns = strtol(argv[3], NULL, 10);\n",
        "\n",
        "  int size = inputLength * sizeof(DataType);\n",
        "  DataType *hostInput1 = (DataType *)malloc(size);\n",
        "  DataType *hostInput2 = (DataType *)malloc(size);\n",
        "  DataType *hostOutput = (DataType *)malloc(size);\n",
        "  DataType *resultRef = (DataType *)malloc(size);\n",
        "\n",
        "  // Initialize host inputs with random values\n",
        "  srand(time(NULL));\n",
        "  for (int i = 0; i < inputLength; ++i) {\n",
        "    hostInput1[i] = (DataType)rand() / RAND_MAX;\n",
        "    hostInput2[i] = (DataType)rand() / RAND_MAX;\n",
        "  }\n",
        "\n",
        "  DataType *deviceInput1, *deviceInput2, *deviceOutput;\n",
        "  cudaMalloc(&deviceInput1, size);\n",
        "  cudaMalloc(&deviceInput2, size);\n",
        "  cudaMalloc(&deviceOutput, size);\n",
        "\n",
        "  dim3 blockDim(numThreadsPerBlock);\n",
        "  dim3 gridDim((inputLength + blockDim.x - 1) / blockDim.x);\n",
        "  printf(\"The input length is %d, (numBlocks, numThreadsPerBlock) = (%d, %d).\\n\", inputLength, gridDim.x, blockDim.x);\n",
        "\n",
        "  // CUDA events for timing\n",
        "  cudaEvent_t start, stop;\n",
        "  cudaEventCreate(&start);\n",
        "  cudaEventCreate(&stop);\n",
        "\n",
        "  float *kernelTimes = (float *)malloc(numRuns * sizeof(float));\n",
        "  float *copyToDeviceTimes = (float *)malloc(numRuns * sizeof(float));\n",
        "  float *copyToHostTimes = (float *)malloc(numRuns * sizeof(float));\n",
        "\n",
        "  for (int run = 0; run < numRuns; run++) {\n",
        "    // Time data copy to device\n",
        "    cudaEventRecord(start);\n",
        "    cudaMemcpy(deviceInput1, hostInput1, size, cudaMemcpyHostToDevice);\n",
        "    cudaMemcpy(deviceInput2, hostInput2, size, cudaMemcpyHostToDevice);\n",
        "    cudaEventRecord(stop);\n",
        "    cudaEventSynchronize(stop);\n",
        "    cudaEventElapsedTime(&copyToDeviceTimes[run], start, stop);\n",
        "\n",
        "    // Time kernel execution\n",
        "    cudaEventRecord(start);\n",
        "    vecAdd<<<gridDim, blockDim>>>(deviceInput1, deviceInput2, deviceOutput, inputLength);\n",
        "    cudaEventRecord(stop);\n",
        "    cudaEventSynchronize(stop);\n",
        "    cudaEventElapsedTime(&kernelTimes[run], start, stop);\n",
        "\n",
        "    // Time data copy back to host\n",
        "    cudaEventRecord(start);\n",
        "    cudaMemcpy(hostOutput, deviceOutput, size, cudaMemcpyDeviceToHost);\n",
        "    cudaEventRecord(stop);\n",
        "    cudaEventSynchronize(stop);\n",
        "    cudaEventElapsedTime(&copyToHostTimes[run], start, stop);\n",
        "  }\n",
        "\n",
        "  float meanKernelTime, stdDevKernelTime;\n",
        "  float meanCopyToDeviceTime, stdDevCopyToDeviceTime;\n",
        "  float meanCopyToHostTime, stdDevCopyToHostTime;\n",
        "\n",
        "  calculateMeanAndStdDev(kernelTimes, numRuns, &meanKernelTime, &stdDevKernelTime);\n",
        "  calculateMeanAndStdDev(copyToDeviceTimes, numRuns, &meanCopyToDeviceTime, &stdDevCopyToDeviceTime);\n",
        "  calculateMeanAndStdDev(copyToHostTimes, numRuns, &meanCopyToHostTime, &stdDevCopyToHostTime);\n",
        "\n",
        "  printf(\"Input length %d, (numBlocks, numThreadsPerBlock) = (%d, %d).\\n\", inputLength, gridDim.x, blockDim.x);\n",
        "  printf(\"Average kernel execution time of %d runs: %.4f +- %.4f ms\\n\", numRuns, meanKernelTime, stdDevKernelTime);\n",
        "  printf(\"Average time for data copy to device:     %.4f +- %.4f ms\\n\", meanCopyToDeviceTime, stdDevCopyToDeviceTime);\n",
        "  printf(\"Average time for data copy to host:       %.4f +- %.4f ms\\n\", meanCopyToHostTime, stdDevCopyToHostTime);\n",
        "\n",
        "  // Error checking and final result comparison\n",
        "  for (int i = 0; i < inputLength; ++i) {\n",
        "    resultRef[i] = hostInput1[i] + hostInput2[i];\n",
        "  }\n",
        "  for (int i = 0; i < inputLength; ++i) {\n",
        "    if (abs(resultRef[i] - hostOutput[i]) > 1e-5) {\n",
        "      printf(\"Addition wrong at %i: (cpu, gpu) = (%.3f, %.3f)\\n\", i, resultRef[i], hostOutput[i]);\n",
        "      break;\n",
        "    }\n",
        "  }\n",
        "\n",
        "  cudaFree(deviceInput1);\n",
        "  cudaFree(deviceInput2);\n",
        "  cudaFree(deviceOutput);\n",
        "\n",
        "  free(hostInput1);\n",
        "  free(hostInput2);\n",
        "  free(hostOutput);\n",
        "  free(resultRef);\n",
        "  free(kernelTimes);\n",
        "  free(copyToDeviceTimes);\n",
        "  free(copyToHostTimes);\n",
        "\n",
        "  cudaEventDestroy(start);\n",
        "  cudaEventDestroy(stop);\n",
        "\n",
        "  return 0;\n",
        "}\n"
      ],
      "metadata": {
        "id": "1Qa0R2zhEGmL",
        "outputId": "9a7b58a1-5ab0-4039-f312-d036cb22f03e",
        "colab": {
          "base_uri": "https://localhost:8080/"
        }
      },
      "execution_count": 87,
      "outputs": [
        {
          "output_type": "stream",
          "name": "stdout",
          "text": [
            "Overwriting hw2_ex1.cu\n"
          ]
        }
      ]
    },
    {
      "cell_type": "markdown",
      "source": [
        "## We compile the saved cuda code using nvcc compiler"
      ],
      "metadata": {
        "id": "TqdaBa9wIICn"
      }
    },
    {
      "cell_type": "code",
      "source": [
        "!nvcc hw2_ex1.cu -o hw2_ex1\n",
        "!ls\n"
      ],
      "metadata": {
        "colab": {
          "base_uri": "https://localhost:8080/"
        },
        "id": "TvYps9NQ40NC",
        "outputId": "4730dc18-65a6-4d41-b1e5-31e5555ea55e"
      },
      "execution_count": 88,
      "outputs": [
        {
          "output_type": "stream",
          "name": "stdout",
          "text": [
            "hw2_ex1  hw2_ex1.cu  sample_data  vectorAdd.cu\n"
          ]
        }
      ]
    },
    {
      "cell_type": "markdown",
      "source": [
        "## Finally, we execute the binary of the compiled code"
      ],
      "metadata": {
        "id": "SUALHJy9IPvG"
      }
    },
    {
      "cell_type": "code",
      "source": [
        "# !./hw2_ex1 10 256\n",
        "# !./hw2_ex1 10 512\n",
        "!./hw2_ex1 512 256 10\n",
        "!./hw2_ex1 512 512 10\n",
        "!./hw2_ex1 512 1024 10\n",
        "# !./hw2_ex1 10000 256\n",
        "# !./hw2_ex1 10000 512\n",
        "# !./hw2_ex1 10000 1024\n",
        "!./hw2_ex1 100000 256 10\n",
        "!./hw2_ex1 100000 512 10\n",
        "!./hw2_ex1 100000 1024 10"
      ],
      "metadata": {
        "colab": {
          "base_uri": "https://localhost:8080/"
        },
        "id": "LHmpZNdmy_6-",
        "outputId": "b21aeb96-53e8-4150-8bb3-a2658afa22d9"
      },
      "execution_count": 89,
      "outputs": [
        {
          "output_type": "stream",
          "name": "stdout",
          "text": [
            "The input length is 512, (numBlocks, numThreadsPerBlock) = (2, 256).\n",
            "Input length 512, (numBlocks, numThreadsPerBlock) = (2, 256).\n",
            "Average kernel execution time of 10 runs: 0.0287 +- 0.0611 ms\n",
            "Average time for data copy to device:     0.0257 +- 0.0088 ms\n",
            "Average time for data copy to host:       0.0170 +- 0.0067 ms\n",
            "The input length is 512, (numBlocks, numThreadsPerBlock) = (1, 512).\n",
            "Input length 512, (numBlocks, numThreadsPerBlock) = (1, 512).\n",
            "Average kernel execution time of 10 runs: 0.0292 +- 0.0626 ms\n",
            "Average time for data copy to device:     0.0214 +- 0.0035 ms\n",
            "Average time for data copy to host:       0.0140 +- 0.0026 ms\n",
            "The input length is 512, (numBlocks, numThreadsPerBlock) = (1, 1024).\n",
            "Input length 512, (numBlocks, numThreadsPerBlock) = (1, 1024).\n",
            "Average kernel execution time of 10 runs: 0.0226 +- 0.0472 ms\n",
            "Average time for data copy to device:     0.0208 +- 0.0065 ms\n",
            "Average time for data copy to host:       0.0153 +- 0.0035 ms\n",
            "The input length is 100000, (numBlocks, numThreadsPerBlock) = (391, 256).\n",
            "Input length 100000, (numBlocks, numThreadsPerBlock) = (391, 256).\n",
            "Average kernel execution time of 10 runs: 0.0307 +- 0.0498 ms\n",
            "Average time for data copy to device:     0.4682 +- 0.0313 ms\n",
            "Average time for data copy to host:       0.3049 +- 0.1206 ms\n",
            "The input length is 100000, (numBlocks, numThreadsPerBlock) = (196, 512).\n",
            "Input length 100000, (numBlocks, numThreadsPerBlock) = (196, 512).\n",
            "Average kernel execution time of 10 runs: 0.0388 +- 0.0645 ms\n",
            "Average time for data copy to device:     0.4900 +- 0.0353 ms\n",
            "Average time for data copy to host:       0.3571 +- 0.1403 ms\n",
            "The input length is 100000, (numBlocks, numThreadsPerBlock) = (98, 1024).\n",
            "Input length 100000, (numBlocks, numThreadsPerBlock) = (98, 1024).\n",
            "Average kernel execution time of 10 runs: 0.0360 +- 0.0504 ms\n",
            "Average time for data copy to device:     0.4706 +- 0.0324 ms\n",
            "Average time for data copy to host:       0.3173 +- 0.1262 ms\n"
          ]
        }
      ]
    },
    {
      "cell_type": "code",
      "source": [
        "# !./vectorAdd\n",
        "# !nvprof --print-gpu-trace ./vectorAdd"
      ],
      "metadata": {
        "id": "gF-iISqy7O2E"
      },
      "execution_count": 71,
      "outputs": []
    },
    {
      "cell_type": "markdown",
      "source": [
        "## Vector length 512"
      ],
      "metadata": {
        "id": "0M6oNMWvDBwY"
      }
    },
    {
      "cell_type": "code",
      "source": [
        "!ncu --section \"Occupancy\" ./hw2_ex1 512 256 10"
      ],
      "metadata": {
        "colab": {
          "base_uri": "https://localhost:8080/"
        },
        "id": "97UEqPicE2OA",
        "outputId": "73f994b7-af6d-42e5-a5b0-80c366007e60"
      },
      "execution_count": 72,
      "outputs": [
        {
          "output_type": "stream",
          "name": "stdout",
          "text": [
            "==PROF== Connected to process 15937 (/content/hw2_ex1)\n",
            "The input length is 512, (numBlocks, numThreadsPerBlock)=(1, 1024).\n",
            "==PROF== Profiling \"vecAdd\" - 0: 0%....50%....100% - 1 pass\n",
            "Kernel execution time: 244.9588 ms\n",
            "==PROF== Disconnected from process 15937\n",
            "[15937] hw2_ex1@127.0.0.1\n",
            "  vecAdd(double *, double *, double *, int) (1, 1, 1)x(1024, 1, 1), Context 1, Stream 7, Device 0, CC 7.5\n",
            "    Section: Occupancy\n",
            "    ------------------------------- ----------- ------------\n",
            "    Metric Name                     Metric Unit Metric Value\n",
            "    ------------------------------- ----------- ------------\n",
            "    Block Limit SM                        block           16\n",
            "    Block Limit Registers                 block            4\n",
            "    Block Limit Shared Mem                block           16\n",
            "    Block Limit Warps                     block            1\n",
            "    Theoretical Active Warps per SM        warp           32\n",
            "    Theoretical Occupancy                     %          100\n",
            "    Achieved Occupancy                        %        63.16\n",
            "    Achieved Active Warps Per SM           warp        20.21\n",
            "    ------------------------------- ----------- ------------\n",
            "\n",
            "    OPT   Estimated Speedup: 36.84%                                                                                     \n",
            "          This kernel's theoretical occupancy is not impacted by any block limit. The difference between calculated     \n",
            "          theoretical (100.0%) and measured achieved occupancy (63.2%) can be the result of warp scheduling overheads   \n",
            "          or workload imbalances during the kernel execution. Load imbalances can occur between warps within a block    \n",
            "          as well as across blocks of the same kernel. See the CUDA Best Practices Guide                                \n",
            "          (https://docs.nvidia.com/cuda/cuda-c-best-practices-guide/index.html#occupancy) for more details on           \n",
            "          optimizing occupancy.                                                                                         \n",
            "\n"
          ]
        }
      ]
    },
    {
      "cell_type": "markdown",
      "source": [
        "## Vector length 262140"
      ],
      "metadata": {
        "id": "Tx7958UODHoz"
      }
    },
    {
      "cell_type": "code",
      "source": [
        "!ncu --section \"Occupancy\" ./hw2_ex1 262140 256 10"
      ],
      "metadata": {
        "id": "fesFqoAj9qRJ",
        "outputId": "6b7fa3f7-484e-47b5-f97b-19978f210b2e",
        "colab": {
          "base_uri": "https://localhost:8080/"
        }
      },
      "execution_count": 74,
      "outputs": [
        {
          "output_type": "stream",
          "name": "stdout",
          "text": [
            "The input length is 262140, (numBlocks, numThreadsPerBlock)=(256, 1024).\n",
            "Kernel execution time: 0.1649 ms\n",
            "==PROF== Connected to process 16684 (/content/hw2_ex1)\n",
            "The input length is 262140, (numBlocks, numThreadsPerBlock)=(256, 1024).\n",
            "==PROF== Profiling \"vecAdd\" - 0: 0%....50%....100% - 1 pass\n",
            "Kernel execution time: 231.3725 ms\n",
            "==PROF== Disconnected from process 16684\n",
            "[16684] hw2_ex1@127.0.0.1\n",
            "  vecAdd(double *, double *, double *, int) (256, 1, 1)x(1024, 1, 1), Context 1, Stream 7, Device 0, CC 7.5\n",
            "    Section: Occupancy\n",
            "    ------------------------------- ----------- ------------\n",
            "    Metric Name                     Metric Unit Metric Value\n",
            "    ------------------------------- ----------- ------------\n",
            "    Block Limit SM                        block           16\n",
            "    Block Limit Registers                 block            4\n",
            "    Block Limit Shared Mem                block           16\n",
            "    Block Limit Warps                     block            1\n",
            "    Theoretical Active Warps per SM        warp           32\n",
            "    Theoretical Occupancy                     %          100\n",
            "    Achieved Occupancy                        %        80.75\n",
            "    Achieved Active Warps Per SM           warp        25.84\n",
            "    ------------------------------- ----------- ------------\n",
            "\n",
            "    OPT   Estimated Speedup: 19.25%                                                                                     \n",
            "          This kernel's theoretical occupancy is not impacted by any block limit. The difference between calculated     \n",
            "          theoretical (100.0%) and measured achieved occupancy (80.8%) can be the result of warp scheduling overheads   \n",
            "          or workload imbalances during the kernel execution. Load imbalances can occur between warps within a block    \n",
            "          as well as across blocks of the same kernel. See the CUDA Best Practices Guide                                \n",
            "          (https://docs.nvidia.com/cuda/cuda-c-best-practices-guide/index.html#occupancy) for more details on           \n",
            "          optimizing occupancy.                                                                                         \n",
            "\n"
          ]
        }
      ]
    },
    {
      "cell_type": "markdown",
      "source": [
        "## Experiment with other sizes"
      ],
      "metadata": {
        "id": "MZbex8eZFwIf"
      }
    },
    {
      "cell_type": "code",
      "source": [
        "# !./hw2_ex1 100000 256 10\n",
        "# !./hw2_ex1 1000000 256 10\n",
        "# !./hw2_ex1 10000000 256 10\n",
        "# !./hw2_ex1 100000000 256 10\n",
        "!./hw2_ex1 999999999 256 10\n",
        "!./hw2_ex1 1000000000 256 10\n",
        "!./hw2_ex1 10000000000 256 10"
      ],
      "metadata": {
        "id": "knaNKoDu6FVS"
      },
      "execution_count": 95,
      "outputs": []
    },
    {
      "cell_type": "code",
      "source": [
        "import pandas as pd\n",
        "import seaborn as sns\n",
        "import matplotlib.pyplot as plt\n",
        "\n",
        "import re\n",
        "import pandas as pd\n",
        "\n",
        "def parse_results(results_str):\n",
        "    \"\"\"\n",
        "    Parses the results of multiple test runs and returns a DataFrame.\n",
        "\n",
        "    Args:\n",
        "    - results_str (str): A string containing the test run output.\n",
        "\n",
        "    Returns:\n",
        "    - df (pd.DataFrame): A DataFrame containing the parsed results.\n",
        "    \"\"\"\n",
        "\n",
        "    # Regex pattern to match each block of results for a single input length\n",
        "    pattern = r\"The input length is (\\d+), \\(numBlocks, numThreadsPerBlock\\) = \\(\\d+, \\d+\\).\\s*Input length \\d+, \\(numBlocks, numThreadsPerBlock\\) = \\(\\d+, \\d+\\).\\s*Average kernel execution time of \\d+ runs: ([\\d.]+) \\+- [\\d.]+ ms\\s*Average time for data copy to device: +([\\d.]+) \\+- [\\d.]+ ms\\s*Average time for data copy to host: +([\\d.]+) \\+- [\\d.]+ ms\"\n",
        "\n",
        "    # Use regex to find all matches in the string\n",
        "    matches = re.findall(pattern, results_str)\n",
        "\n",
        "    # Create a list to store the parsed data\n",
        "    data = []\n",
        "\n",
        "    # Parse each match and store as a dictionary\n",
        "    for match in matches:\n",
        "        input_length = int(match[0])\n",
        "        kernel_time = float(match[1])\n",
        "        copy_to_device_time = float(match[2])\n",
        "        copy_to_host_time = float(match[3])\n",
        "\n",
        "        # Append the parsed data to the list\n",
        "        data.append({\n",
        "            \"Input Length\": input_length,\n",
        "            \"Kernel Execution Time (ms)\": kernel_time,\n",
        "            \"Copy to Device Time (ms)\": copy_to_device_time,\n",
        "            \"Copy to Host Time (ms)\": copy_to_host_time\n",
        "        })\n",
        "\n",
        "    # Convert the data list to a DataFrame\n",
        "    df = pd.DataFrame(data)\n",
        "\n",
        "    return df\n",
        "\n",
        "# Example usage with the input printout string\n",
        "results_str = \"\"\"\n",
        "The input length is 100000, (numBlocks, numThreadsPerBlock) = (391, 256).\n",
        "Input length 100000, (numBlocks, numThreadsPerBlock) = (391, 256).\n",
        "Average kernel execution time of 10 runs: 0.0332 +- 0.0546 ms\n",
        "Average time for data copy to device:     0.4653 +- 0.0313 ms\n",
        "Average time for data copy to host:       0.3076 +- 0.1151 ms\n",
        "The input length is 1000000, (numBlocks, numThreadsPerBlock) = (3907, 256).\n",
        "Input length 1000000, (numBlocks, numThreadsPerBlock) = (3907, 256).\n",
        "Average kernel execution time of 10 runs: 0.1134 +- 0.0486 ms\n",
        "Average time for data copy to device:     3.2890 +- 0.1589 ms\n",
        "Average time for data copy to host:       2.1924 +- 1.2510 ms\n",
        "The input length is 5000000, (numBlocks, numThreadsPerBlock) = (19532, 256).\n",
        "Input length 5000000, (numBlocks, numThreadsPerBlock) = (19532, 256).\n",
        "Average kernel execution time of 10 runs: 0.4788 +- 0.0516 ms\n",
        "Average time for data copy to device:     16.9438 +- 0.4962 ms\n",
        "Average time for data copy to host:       10.8117 +- 6.7098 ms\n",
        "The input length is 10000000, (numBlocks, numThreadsPerBlock) = (39063, 256).\n",
        "Input length 10000000, (numBlocks, numThreadsPerBlock) = (39063, 256).\n",
        "Average kernel execution time of 10 runs: 0.9397 +- 0.0546 ms\n",
        "Average time for data copy to device:     34.2606 +- 0.9204 ms\n",
        "Average time for data copy to host:       21.0833 +- 11.8544 ms\n",
        "The input length is 50000000, (numBlocks, numThreadsPerBlock) = (195313, 256).\n",
        "Input length 50000000, (numBlocks, numThreadsPerBlock) = (195313, 256).\n",
        "Average kernel execution time of 10 runs: 4.5879 +- 0.0704 ms\n",
        "Average time for data copy to device:     171.6111 +- 8.4352 ms\n",
        "Average time for data copy to host:       104.4536 +- 58.5639 ms\n",
        "The input length is 100000000, (numBlocks, numThreadsPerBlock) = (390625, 256).\n",
        "Input length 100000000, (numBlocks, numThreadsPerBlock) = (390625, 256).\n",
        "Average kernel execution time of 10 runs: 9.1720 +- 0.0574 ms\n",
        "Average time for data copy to device:     335.4579 +- 3.3210 ms\n",
        "Average time for data copy to host:       207.1870 +- 119.9519 ms\n",
        "\"\"\"\n",
        "\n",
        "# Parse the results\n",
        "df = parse_results(results_str)\n",
        "\n",
        "# Print the resulting DataFrame\n",
        "print(df)\n",
        "\n",
        "# # Data preparation\n",
        "# data = {\n",
        "#     \"Input Length\": [100000, 1000000, 5000000, 10000000, 50000000, 100000000],\n",
        "#     \"Kernel Execution Time (ms)\": [0.0332, 0.1134, 0.4788, 0.9397, 4.5879, 9.1720],\n",
        "#     \"Copy to Device Time (ms)\": [0.4653, 3.2890, 16.9438, 34.2606, 171.6111, 335.4579],\n",
        "#     \"Copy to Host Time (ms)\": [0.3076, 2.1924, 10.8117, 21.0833, 104.4536, 207.1870]\n",
        "# }\n",
        "\n",
        "# # Convert the data into a pandas DataFrame\n",
        "# df = pd.DataFrame(data)\n",
        "\n",
        "# Reshape the DataFrame for a stacked bar plot\n",
        "df_melted = df.melt(id_vars=\"Input Length\",\n",
        "                    value_vars=[\"Kernel Execution Time (ms)\", \"Copy to Device Time (ms)\", \"Copy to Host Time (ms)\"],\n",
        "                    var_name=\"Operation\",\n",
        "                    value_name=\"Time (ms)\")\n",
        "\n",
        "# Plotting the stacked bar plot\n",
        "plt.figure(figsize=(12, 6))\n",
        "sns.barplot(data=df_melted, x=\"Input Length\", y=\"Time (ms)\", hue=\"Operation\", dodge=False)\n",
        "\n",
        "# Adding plot details\n",
        "plt.title(\"Average Times for Data Copy and Kernel Execution\")\n",
        "plt.xlabel(\"Input Length\")\n",
        "plt.ylabel(\"Average Time (ms)\")\n",
        "plt.yscale(\"log\")  # Log scale can help better visualize the differences across large ranges\n",
        "plt.legend(title=\"Operation\", loc=\"upper left\")\n",
        "\n",
        "plt.show()\n"
      ],
      "metadata": {
        "id": "Zn8Bi32pGR3L",
        "outputId": "94894d38-f22d-472d-cd22-0097ebe7c87c",
        "colab": {
          "base_uri": "https://localhost:8080/",
          "height": 840
        }
      },
      "execution_count": 93,
      "outputs": [
        {
          "output_type": "stream",
          "name": "stdout",
          "text": [
            "   Input Length  Kernel Execution Time (ms)  Copy to Device Time (ms)  \\\n",
            "0        100000                      0.0332                    0.4653   \n",
            "1       1000000                      0.1134                    3.2890   \n",
            "2       5000000                      0.4788                   16.9438   \n",
            "3      10000000                      0.9397                   34.2606   \n",
            "4      50000000                      4.5879                  171.6111   \n",
            "5     100000000                      9.1720                  335.4579   \n",
            "\n",
            "   Copy to Host Time (ms)  \n",
            "0                  0.3076  \n",
            "1                  2.1924  \n",
            "2                 10.8117  \n",
            "3                 21.0833  \n",
            "4                104.4536  \n",
            "5                207.1870  \n"
          ]
        },
        {
          "output_type": "display_data",
          "data": {
            "text/plain": [
              "<Figure size 1200x600 with 1 Axes>"
            ],
            "image/png": "[encoded data removed]"
          },
          "metadata": {}
        }
      ]
    },
    {
      "cell_type": "code",
      "source": [],
      "metadata": {
        "id": "6QgfnlpRHg1-"
      },
      "execution_count": null,
      "outputs": []
    }
  ]
}